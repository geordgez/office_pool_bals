{
 "cells": [
  {
   "cell_type": "code",
   "execution_count": 1,
   "metadata": {
    "collapsed": true
   },
   "outputs": [],
   "source": [
    "%matplotlib inline"
   ]
  },
  {
   "cell_type": "code",
   "execution_count": 2,
   "metadata": {
    "collapsed": false
   },
   "outputs": [],
   "source": [
    "import numpy as np\n",
    "import pandas as pd\n",
    "from matplotlib import pyplot as plt\n",
    "\n",
    "import re\n",
    "import csv\n",
    "\n",
    "import os"
   ]
  },
  {
   "cell_type": "markdown",
   "metadata": {},
   "source": [
    "### Individual Games\n",
    "\n",
    "Read in data on individual games"
   ]
  },
  {
   "cell_type": "code",
   "execution_count": 3,
   "metadata": {
    "collapsed": true
   },
   "outputs": [],
   "source": [
    "# make sure there's a date and csv\n",
    "meta_re = re.compile('\\_(\\d{4})-(\\d{2})-(\\d{2})-(\\d*).*(?=csv)', re.DOTALL)"
   ]
  },
  {
   "cell_type": "code",
   "execution_count": 4,
   "metadata": {
    "collapsed": false
   },
   "outputs": [],
   "source": [
    "data_dir = '../data_170216//'\n",
    "game_data = []\n",
    "\n",
    "for file in os.listdir(data_dir):\n",
    "    meta_info = set()\n",
    "    meta_match = meta_re.search(file)\n",
    "    \n",
    "    if meta_match:\n",
    "        meta_info = meta_match.groups()\n",
    "        date = '-'.join(meta_info[:-1])\n",
    "        g_id = meta_info[-1]\n",
    "        \n",
    "        with open(data_dir + file, 'rb') as infile:\n",
    "            reader = csv.reader(infile)\n",
    "            for row in reader:\n",
    "                if 'Duration' not in row:\n",
    "                    full_row = row\n",
    "                    full_row.append(row[((row[0] == row[2]) + 1) / 2])\n",
    "                    game_data.append([date, g_id] + full_row)\n",
    "            infile.close()\n",
    "            "
   ]
  },
  {
   "cell_type": "code",
   "execution_count": 5,
   "metadata": {
    "collapsed": false
   },
   "outputs": [],
   "source": [
    "game_data_cols = ['date', 'game_id', 'player1', 'player2', 'winner', 'stripes', 'solids', 'duration', 'loser']\n",
    "df_games = pd.DataFrame(game_data, columns=game_data_cols)"
   ]
  },
  {
   "cell_type": "code",
   "execution_count": 6,
   "metadata": {
    "collapsed": false
   },
   "outputs": [],
   "source": [
    "df_games['date'] = pd.to_datetime(df_games.date)\n",
    "df_games['duration'] = df_games.duration.astype(float)\n",
    "df_games['ind'] = 1"
   ]
  },
  {
   "cell_type": "code",
   "execution_count": 7,
   "metadata": {
    "collapsed": false
   },
   "outputs": [],
   "source": [
    "df_games = df_games[((df_games.player1 != '') & (df_games.player2 != ''))]"
   ]
  },
  {
   "cell_type": "code",
   "execution_count": 8,
   "metadata": {
    "collapsed": false
   },
   "outputs": [
    {
     "data": {
      "text/html": [
       "<div>\n",
       "<table border=\"1\" class=\"dataframe\">\n",
       "  <thead>\n",
       "    <tr style=\"text-align: right;\">\n",
       "      <th></th>\n",
       "      <th>date</th>\n",
       "      <th>game_id</th>\n",
       "      <th>player1</th>\n",
       "      <th>player2</th>\n",
       "      <th>winner</th>\n",
       "      <th>stripes</th>\n",
       "      <th>solids</th>\n",
       "      <th>duration</th>\n",
       "      <th>loser</th>\n",
       "      <th>ind</th>\n",
       "    </tr>\n",
       "  </thead>\n",
       "  <tbody>\n",
       "    <tr>\n",
       "      <th>0</th>\n",
       "      <td>2017-01-20</td>\n",
       "      <td>1712</td>\n",
       "      <td>SPM</td>\n",
       "      <td>JRM</td>\n",
       "      <td>SPM</td>\n",
       "      <td>JRM</td>\n",
       "      <td>SPM</td>\n",
       "      <td>8.550000</td>\n",
       "      <td>JRM</td>\n",
       "      <td>1</td>\n",
       "    </tr>\n",
       "    <tr>\n",
       "      <th>1</th>\n",
       "      <td>2017-01-26</td>\n",
       "      <td>0815</td>\n",
       "      <td>SPM</td>\n",
       "      <td>JDH</td>\n",
       "      <td>SPM</td>\n",
       "      <td>SPM</td>\n",
       "      <td>JDH</td>\n",
       "      <td>9.750000</td>\n",
       "      <td>JDH</td>\n",
       "      <td>1</td>\n",
       "    </tr>\n",
       "    <tr>\n",
       "      <th>2</th>\n",
       "      <td>2017-01-26</td>\n",
       "      <td>1141</td>\n",
       "      <td>JDH</td>\n",
       "      <td>GJZ</td>\n",
       "      <td>GJZ</td>\n",
       "      <td>JDH</td>\n",
       "      <td>GJZ</td>\n",
       "      <td>12.666667</td>\n",
       "      <td>JDH</td>\n",
       "      <td>1</td>\n",
       "    </tr>\n",
       "    <tr>\n",
       "      <th>3</th>\n",
       "      <td>2017-01-26</td>\n",
       "      <td>1337</td>\n",
       "      <td>MAG</td>\n",
       "      <td>JDH</td>\n",
       "      <td>MAG</td>\n",
       "      <td>MAG</td>\n",
       "      <td>JDH</td>\n",
       "      <td>13.600000</td>\n",
       "      <td>JDH</td>\n",
       "      <td>1</td>\n",
       "    </tr>\n",
       "    <tr>\n",
       "      <th>4</th>\n",
       "      <td>2017-01-26</td>\n",
       "      <td>1624</td>\n",
       "      <td>GJZ</td>\n",
       "      <td>JD</td>\n",
       "      <td>GJZ</td>\n",
       "      <td>GJZ</td>\n",
       "      <td>JD</td>\n",
       "      <td>19.450000</td>\n",
       "      <td>JD</td>\n",
       "      <td>1</td>\n",
       "    </tr>\n",
       "    <tr>\n",
       "      <th>5</th>\n",
       "      <td>2017-01-27</td>\n",
       "      <td>1412</td>\n",
       "      <td>JDH</td>\n",
       "      <td>SPM</td>\n",
       "      <td>JDH</td>\n",
       "      <td>SPM</td>\n",
       "      <td>JDH</td>\n",
       "      <td>9.516667</td>\n",
       "      <td>SPM</td>\n",
       "      <td>1</td>\n",
       "    </tr>\n",
       "    <tr>\n",
       "      <th>6</th>\n",
       "      <td>2017-01-27</td>\n",
       "      <td>1449</td>\n",
       "      <td>JD</td>\n",
       "      <td>JDH</td>\n",
       "      <td>JDH</td>\n",
       "      <td>JD</td>\n",
       "      <td>JDH</td>\n",
       "      <td>13.850000</td>\n",
       "      <td>JD</td>\n",
       "      <td>1</td>\n",
       "    </tr>\n",
       "    <tr>\n",
       "      <th>7</th>\n",
       "      <td>2017-01-30</td>\n",
       "      <td>1156</td>\n",
       "      <td>SPM</td>\n",
       "      <td>GJZ</td>\n",
       "      <td>GJZ</td>\n",
       "      <td>SPM</td>\n",
       "      <td>GJZ</td>\n",
       "      <td>11.583333</td>\n",
       "      <td>SPM</td>\n",
       "      <td>1</td>\n",
       "    </tr>\n",
       "    <tr>\n",
       "      <th>8</th>\n",
       "      <td>2017-01-30</td>\n",
       "      <td>1318</td>\n",
       "      <td>GJZ</td>\n",
       "      <td>JDH</td>\n",
       "      <td>GJZ</td>\n",
       "      <td>JDH</td>\n",
       "      <td>GJZ</td>\n",
       "      <td>10.766667</td>\n",
       "      <td>JDH</td>\n",
       "      <td>1</td>\n",
       "    </tr>\n",
       "    <tr>\n",
       "      <th>9</th>\n",
       "      <td>2017-01-30</td>\n",
       "      <td>1330</td>\n",
       "      <td>JDH</td>\n",
       "      <td>GJZ</td>\n",
       "      <td>JDH</td>\n",
       "      <td>JDH</td>\n",
       "      <td>GJZ</td>\n",
       "      <td>11.833333</td>\n",
       "      <td>GJZ</td>\n",
       "      <td>1</td>\n",
       "    </tr>\n",
       "    <tr>\n",
       "      <th>10</th>\n",
       "      <td>2017-01-30</td>\n",
       "      <td>1430</td>\n",
       "      <td>JDH</td>\n",
       "      <td>JD</td>\n",
       "      <td>JDH</td>\n",
       "      <td>JD</td>\n",
       "      <td>JDH</td>\n",
       "      <td>7.750000</td>\n",
       "      <td>JD</td>\n",
       "      <td>1</td>\n",
       "    </tr>\n",
       "    <tr>\n",
       "      <th>12</th>\n",
       "      <td>2017-01-30</td>\n",
       "      <td>1441</td>\n",
       "      <td>JD</td>\n",
       "      <td>JDH</td>\n",
       "      <td>JDH</td>\n",
       "      <td>JD</td>\n",
       "      <td>JDH</td>\n",
       "      <td>13.366667</td>\n",
       "      <td>JD</td>\n",
       "      <td>1</td>\n",
       "    </tr>\n",
       "    <tr>\n",
       "      <th>13</th>\n",
       "      <td>2017-01-30</td>\n",
       "      <td>1558</td>\n",
       "      <td>GJZ</td>\n",
       "      <td>ATN</td>\n",
       "      <td>GJZ</td>\n",
       "      <td>ATN</td>\n",
       "      <td>GJZ</td>\n",
       "      <td>9.783333</td>\n",
       "      <td>ATN</td>\n",
       "      <td>1</td>\n",
       "    </tr>\n",
       "    <tr>\n",
       "      <th>14</th>\n",
       "      <td>2017-01-30</td>\n",
       "      <td>1713</td>\n",
       "      <td>RL</td>\n",
       "      <td>JD</td>\n",
       "      <td>RL</td>\n",
       "      <td>JD</td>\n",
       "      <td>RL</td>\n",
       "      <td>12.700000</td>\n",
       "      <td>JD</td>\n",
       "      <td>1</td>\n",
       "    </tr>\n",
       "    <tr>\n",
       "      <th>15</th>\n",
       "      <td>2017-01-31</td>\n",
       "      <td>1054</td>\n",
       "      <td>JDH</td>\n",
       "      <td>GJZ</td>\n",
       "      <td>GJZ</td>\n",
       "      <td>JDH</td>\n",
       "      <td>GJZ</td>\n",
       "      <td>10.500000</td>\n",
       "      <td>JDH</td>\n",
       "      <td>1</td>\n",
       "    </tr>\n",
       "    <tr>\n",
       "      <th>16</th>\n",
       "      <td>2017-01-31</td>\n",
       "      <td>1105</td>\n",
       "      <td>GJZ</td>\n",
       "      <td>JDH</td>\n",
       "      <td>GJZ</td>\n",
       "      <td>JDH</td>\n",
       "      <td>GJZ</td>\n",
       "      <td>13.000000</td>\n",
       "      <td>JDH</td>\n",
       "      <td>1</td>\n",
       "    </tr>\n",
       "    <tr>\n",
       "      <th>17</th>\n",
       "      <td>2017-01-31</td>\n",
       "      <td>1438</td>\n",
       "      <td>JDH</td>\n",
       "      <td>GJZ</td>\n",
       "      <td>GJZ</td>\n",
       "      <td>JDH</td>\n",
       "      <td>GJZ</td>\n",
       "      <td>11.133333</td>\n",
       "      <td>JDH</td>\n",
       "      <td>1</td>\n",
       "    </tr>\n",
       "    <tr>\n",
       "      <th>18</th>\n",
       "      <td>2017-02-01</td>\n",
       "      <td>1339</td>\n",
       "      <td>JDH</td>\n",
       "      <td>AH</td>\n",
       "      <td>JDH</td>\n",
       "      <td>AH</td>\n",
       "      <td>JDH</td>\n",
       "      <td>7.233333</td>\n",
       "      <td>AH</td>\n",
       "      <td>1</td>\n",
       "    </tr>\n",
       "    <tr>\n",
       "      <th>19</th>\n",
       "      <td>2017-02-01</td>\n",
       "      <td>1410</td>\n",
       "      <td>JDH</td>\n",
       "      <td>GJZ</td>\n",
       "      <td>JDH</td>\n",
       "      <td>JDH</td>\n",
       "      <td>GJZ</td>\n",
       "      <td>15.866667</td>\n",
       "      <td>GJZ</td>\n",
       "      <td>1</td>\n",
       "    </tr>\n",
       "    <tr>\n",
       "      <th>20</th>\n",
       "      <td>2017-02-02</td>\n",
       "      <td>1155</td>\n",
       "      <td>GJZ</td>\n",
       "      <td>ATN</td>\n",
       "      <td>GJZ</td>\n",
       "      <td>GJZ</td>\n",
       "      <td>ATN</td>\n",
       "      <td>18.700000</td>\n",
       "      <td>ATN</td>\n",
       "      <td>1</td>\n",
       "    </tr>\n",
       "    <tr>\n",
       "      <th>21</th>\n",
       "      <td>2017-02-02</td>\n",
       "      <td>1422</td>\n",
       "      <td>JDH</td>\n",
       "      <td>GJZ</td>\n",
       "      <td>GJZ</td>\n",
       "      <td>JDH</td>\n",
       "      <td>GJZ</td>\n",
       "      <td>10.716667</td>\n",
       "      <td>JDH</td>\n",
       "      <td>1</td>\n",
       "    </tr>\n",
       "    <tr>\n",
       "      <th>23</th>\n",
       "      <td>2017-02-02</td>\n",
       "      <td>1524</td>\n",
       "      <td>GJZ</td>\n",
       "      <td>JDH</td>\n",
       "      <td>JDH</td>\n",
       "      <td>GJZ</td>\n",
       "      <td>JDH</td>\n",
       "      <td>10.916667</td>\n",
       "      <td>GJZ</td>\n",
       "      <td>1</td>\n",
       "    </tr>\n",
       "    <tr>\n",
       "      <th>24</th>\n",
       "      <td>2017-02-02</td>\n",
       "      <td>1536</td>\n",
       "      <td>JDH</td>\n",
       "      <td>GJZ</td>\n",
       "      <td>GJZ</td>\n",
       "      <td>GJZ</td>\n",
       "      <td>JDH</td>\n",
       "      <td>7.133333</td>\n",
       "      <td>JDH</td>\n",
       "      <td>1</td>\n",
       "    </tr>\n",
       "    <tr>\n",
       "      <th>25</th>\n",
       "      <td>2017-02-03</td>\n",
       "      <td>0955</td>\n",
       "      <td>SPM</td>\n",
       "      <td>JDH</td>\n",
       "      <td>JDH</td>\n",
       "      <td>JDH</td>\n",
       "      <td>SPM</td>\n",
       "      <td>7.150000</td>\n",
       "      <td>SPM</td>\n",
       "      <td>1</td>\n",
       "    </tr>\n",
       "    <tr>\n",
       "      <th>26</th>\n",
       "      <td>2017-02-03</td>\n",
       "      <td>1302</td>\n",
       "      <td>GJZ</td>\n",
       "      <td>JDH</td>\n",
       "      <td>GJZ</td>\n",
       "      <td>JDH</td>\n",
       "      <td>GJZ</td>\n",
       "      <td>14.450000</td>\n",
       "      <td>JDH</td>\n",
       "      <td>1</td>\n",
       "    </tr>\n",
       "    <tr>\n",
       "      <th>27</th>\n",
       "      <td>2017-02-03</td>\n",
       "      <td>1449</td>\n",
       "      <td>JDH</td>\n",
       "      <td>GJZ</td>\n",
       "      <td>JDH</td>\n",
       "      <td>JDH</td>\n",
       "      <td>GJZ</td>\n",
       "      <td>9.950000</td>\n",
       "      <td>GJZ</td>\n",
       "      <td>1</td>\n",
       "    </tr>\n",
       "    <tr>\n",
       "      <th>28</th>\n",
       "      <td>2017-02-03</td>\n",
       "      <td>1618</td>\n",
       "      <td>AH</td>\n",
       "      <td>JDH</td>\n",
       "      <td>JDH</td>\n",
       "      <td>JDH</td>\n",
       "      <td>AH</td>\n",
       "      <td>8.633333</td>\n",
       "      <td>AH</td>\n",
       "      <td>1</td>\n",
       "    </tr>\n",
       "    <tr>\n",
       "      <th>29</th>\n",
       "      <td>2017-02-06</td>\n",
       "      <td>1315</td>\n",
       "      <td>JDH</td>\n",
       "      <td>RL</td>\n",
       "      <td>JDH</td>\n",
       "      <td>JDH</td>\n",
       "      <td>RL</td>\n",
       "      <td>17.183333</td>\n",
       "      <td>RL</td>\n",
       "      <td>1</td>\n",
       "    </tr>\n",
       "    <tr>\n",
       "      <th>30</th>\n",
       "      <td>2017-02-06</td>\n",
       "      <td>1510</td>\n",
       "      <td>JDH</td>\n",
       "      <td>GJZ</td>\n",
       "      <td>JDH</td>\n",
       "      <td>JDH</td>\n",
       "      <td>GJZ</td>\n",
       "      <td>29.433333</td>\n",
       "      <td>GJZ</td>\n",
       "      <td>1</td>\n",
       "    </tr>\n",
       "    <tr>\n",
       "      <th>31</th>\n",
       "      <td>2017-02-06</td>\n",
       "      <td>1712</td>\n",
       "      <td>GJZ</td>\n",
       "      <td>JDH</td>\n",
       "      <td>JDH</td>\n",
       "      <td>JDH</td>\n",
       "      <td>GJZ</td>\n",
       "      <td>12.516667</td>\n",
       "      <td>GJZ</td>\n",
       "      <td>1</td>\n",
       "    </tr>\n",
       "    <tr>\n",
       "      <th>32</th>\n",
       "      <td>2017-02-06</td>\n",
       "      <td>1727</td>\n",
       "      <td>RAL</td>\n",
       "      <td>GJZ</td>\n",
       "      <td>GJZ</td>\n",
       "      <td>RAL</td>\n",
       "      <td>GJZ</td>\n",
       "      <td>8.183333</td>\n",
       "      <td>RAL</td>\n",
       "      <td>1</td>\n",
       "    </tr>\n",
       "    <tr>\n",
       "      <th>33</th>\n",
       "      <td>2017-02-07</td>\n",
       "      <td>1026</td>\n",
       "      <td>ATN</td>\n",
       "      <td>GJZ</td>\n",
       "      <td>GJZ</td>\n",
       "      <td>GJZ</td>\n",
       "      <td>ATN</td>\n",
       "      <td>10.900000</td>\n",
       "      <td>ATN</td>\n",
       "      <td>1</td>\n",
       "    </tr>\n",
       "    <tr>\n",
       "      <th>34</th>\n",
       "      <td>2017-02-07</td>\n",
       "      <td>1300</td>\n",
       "      <td>JDH</td>\n",
       "      <td>GJZ</td>\n",
       "      <td>GJZ</td>\n",
       "      <td>JDH</td>\n",
       "      <td>GJZ</td>\n",
       "      <td>10.483333</td>\n",
       "      <td>JDH</td>\n",
       "      <td>1</td>\n",
       "    </tr>\n",
       "    <tr>\n",
       "      <th>35</th>\n",
       "      <td>2017-02-07</td>\n",
       "      <td>1455</td>\n",
       "      <td>ATN</td>\n",
       "      <td>GJZ</td>\n",
       "      <td>ATN</td>\n",
       "      <td>GJZ</td>\n",
       "      <td>ATN</td>\n",
       "      <td>15.016667</td>\n",
       "      <td>GJZ</td>\n",
       "      <td>1</td>\n",
       "    </tr>\n",
       "    <tr>\n",
       "      <th>36</th>\n",
       "      <td>2017-02-07</td>\n",
       "      <td>1640</td>\n",
       "      <td>NAS</td>\n",
       "      <td>JDH</td>\n",
       "      <td>JDH</td>\n",
       "      <td>NAS</td>\n",
       "      <td>JDH</td>\n",
       "      <td>11.416667</td>\n",
       "      <td>NAS</td>\n",
       "      <td>1</td>\n",
       "    </tr>\n",
       "    <tr>\n",
       "      <th>37</th>\n",
       "      <td>2017-02-08</td>\n",
       "      <td>1122</td>\n",
       "      <td>GJZ</td>\n",
       "      <td>JDH</td>\n",
       "      <td>JDH</td>\n",
       "      <td>JDH</td>\n",
       "      <td>GJZ</td>\n",
       "      <td>11.983333</td>\n",
       "      <td>GJZ</td>\n",
       "      <td>1</td>\n",
       "    </tr>\n",
       "    <tr>\n",
       "      <th>38</th>\n",
       "      <td>2017-02-08</td>\n",
       "      <td>1546</td>\n",
       "      <td>JDH</td>\n",
       "      <td>GJZ</td>\n",
       "      <td>GJZ</td>\n",
       "      <td>GJZ</td>\n",
       "      <td>JDH</td>\n",
       "      <td>15.050000</td>\n",
       "      <td>JDH</td>\n",
       "      <td>1</td>\n",
       "    </tr>\n",
       "    <tr>\n",
       "      <th>39</th>\n",
       "      <td>2017-02-10</td>\n",
       "      <td>1017</td>\n",
       "      <td>MAG</td>\n",
       "      <td>JDH</td>\n",
       "      <td>JDH</td>\n",
       "      <td>MAG</td>\n",
       "      <td>JDH</td>\n",
       "      <td>10.100000</td>\n",
       "      <td>MAG</td>\n",
       "      <td>1</td>\n",
       "    </tr>\n",
       "    <tr>\n",
       "      <th>40</th>\n",
       "      <td>2017-02-10</td>\n",
       "      <td>1419</td>\n",
       "      <td>JDH</td>\n",
       "      <td>JD</td>\n",
       "      <td>JDH</td>\n",
       "      <td>JD</td>\n",
       "      <td>JDH</td>\n",
       "      <td>8.400000</td>\n",
       "      <td>JD</td>\n",
       "      <td>1</td>\n",
       "    </tr>\n",
       "    <tr>\n",
       "      <th>42</th>\n",
       "      <td>2017-02-10</td>\n",
       "      <td>1517</td>\n",
       "      <td>JD</td>\n",
       "      <td>JDH</td>\n",
       "      <td>JD</td>\n",
       "      <td>JDH</td>\n",
       "      <td>JD</td>\n",
       "      <td>13.883333</td>\n",
       "      <td>JDH</td>\n",
       "      <td>1</td>\n",
       "    </tr>\n",
       "    <tr>\n",
       "      <th>43</th>\n",
       "      <td>2017-02-10</td>\n",
       "      <td>1534</td>\n",
       "      <td>MAG</td>\n",
       "      <td>JD</td>\n",
       "      <td>JD</td>\n",
       "      <td>JD</td>\n",
       "      <td>MAG</td>\n",
       "      <td>10.166667</td>\n",
       "      <td>MAG</td>\n",
       "      <td>1</td>\n",
       "    </tr>\n",
       "    <tr>\n",
       "      <th>44</th>\n",
       "      <td>2017-02-10</td>\n",
       "      <td>1548</td>\n",
       "      <td>GJZ</td>\n",
       "      <td>JDH</td>\n",
       "      <td>JDH</td>\n",
       "      <td>JDH</td>\n",
       "      <td>GJZ</td>\n",
       "      <td>1.366667</td>\n",
       "      <td>GJZ</td>\n",
       "      <td>1</td>\n",
       "    </tr>\n",
       "    <tr>\n",
       "      <th>45</th>\n",
       "      <td>2017-02-10</td>\n",
       "      <td>1551</td>\n",
       "      <td>JDH</td>\n",
       "      <td>GJZ</td>\n",
       "      <td>GJZ</td>\n",
       "      <td>JDH</td>\n",
       "      <td>GJZ</td>\n",
       "      <td>11.750000</td>\n",
       "      <td>JDH</td>\n",
       "      <td>1</td>\n",
       "    </tr>\n",
       "    <tr>\n",
       "      <th>46</th>\n",
       "      <td>2017-02-14</td>\n",
       "      <td>1013</td>\n",
       "      <td>GJZ</td>\n",
       "      <td>JDH</td>\n",
       "      <td>JDH</td>\n",
       "      <td>JDH</td>\n",
       "      <td>GJZ</td>\n",
       "      <td>12.300000</td>\n",
       "      <td>GJZ</td>\n",
       "      <td>1</td>\n",
       "    </tr>\n",
       "    <tr>\n",
       "      <th>47</th>\n",
       "      <td>2017-02-14</td>\n",
       "      <td>1255</td>\n",
       "      <td>JD</td>\n",
       "      <td>JDH</td>\n",
       "      <td>JDH</td>\n",
       "      <td>JD</td>\n",
       "      <td>JDH</td>\n",
       "      <td>11.000000</td>\n",
       "      <td>JD</td>\n",
       "      <td>1</td>\n",
       "    </tr>\n",
       "    <tr>\n",
       "      <th>48</th>\n",
       "      <td>2017-02-14</td>\n",
       "      <td>1357</td>\n",
       "      <td>JDH</td>\n",
       "      <td>MAG</td>\n",
       "      <td>MAG</td>\n",
       "      <td>JDH</td>\n",
       "      <td>MAG</td>\n",
       "      <td>10.450000</td>\n",
       "      <td>JDH</td>\n",
       "      <td>1</td>\n",
       "    </tr>\n",
       "    <tr>\n",
       "      <th>49</th>\n",
       "      <td>2017-02-14</td>\n",
       "      <td>1408</td>\n",
       "      <td>JDH</td>\n",
       "      <td>MAG</td>\n",
       "      <td>JDH</td>\n",
       "      <td>MAG</td>\n",
       "      <td>JDH</td>\n",
       "      <td>9.100000</td>\n",
       "      <td>MAG</td>\n",
       "      <td>1</td>\n",
       "    </tr>\n",
       "    <tr>\n",
       "      <th>50</th>\n",
       "      <td>2017-02-15</td>\n",
       "      <td>0917</td>\n",
       "      <td>JDH</td>\n",
       "      <td>GJZ</td>\n",
       "      <td>GJZ</td>\n",
       "      <td>GJZ</td>\n",
       "      <td>JDH</td>\n",
       "      <td>13.917000</td>\n",
       "      <td>JDH</td>\n",
       "      <td>1</td>\n",
       "    </tr>\n",
       "  </tbody>\n",
       "</table>\n",
       "</div>"
      ],
      "text/plain": [
       "         date game_id player1 player2 winner stripes solids   duration loser  \\\n",
       "0  2017-01-20    1712     SPM     JRM    SPM     JRM    SPM   8.550000   JRM   \n",
       "1  2017-01-26    0815     SPM     JDH    SPM     SPM    JDH   9.750000   JDH   \n",
       "2  2017-01-26    1141     JDH     GJZ    GJZ     JDH    GJZ  12.666667   JDH   \n",
       "3  2017-01-26    1337     MAG     JDH    MAG     MAG    JDH  13.600000   JDH   \n",
       "4  2017-01-26    1624     GJZ      JD    GJZ     GJZ     JD  19.450000    JD   \n",
       "5  2017-01-27    1412     JDH     SPM    JDH     SPM    JDH   9.516667   SPM   \n",
       "6  2017-01-27    1449      JD     JDH    JDH      JD    JDH  13.850000    JD   \n",
       "7  2017-01-30    1156     SPM     GJZ    GJZ     SPM    GJZ  11.583333   SPM   \n",
       "8  2017-01-30    1318     GJZ     JDH    GJZ     JDH    GJZ  10.766667   JDH   \n",
       "9  2017-01-30    1330     JDH     GJZ    JDH     JDH    GJZ  11.833333   GJZ   \n",
       "10 2017-01-30    1430     JDH      JD    JDH      JD    JDH   7.750000    JD   \n",
       "12 2017-01-30    1441      JD     JDH    JDH      JD    JDH  13.366667    JD   \n",
       "13 2017-01-30    1558     GJZ     ATN    GJZ     ATN    GJZ   9.783333   ATN   \n",
       "14 2017-01-30    1713      RL      JD     RL      JD     RL  12.700000    JD   \n",
       "15 2017-01-31    1054     JDH     GJZ    GJZ     JDH    GJZ  10.500000   JDH   \n",
       "16 2017-01-31    1105     GJZ     JDH    GJZ     JDH    GJZ  13.000000   JDH   \n",
       "17 2017-01-31    1438     JDH     GJZ    GJZ     JDH    GJZ  11.133333   JDH   \n",
       "18 2017-02-01    1339     JDH      AH    JDH      AH    JDH   7.233333    AH   \n",
       "19 2017-02-01    1410     JDH     GJZ    JDH     JDH    GJZ  15.866667   GJZ   \n",
       "20 2017-02-02    1155     GJZ     ATN    GJZ     GJZ    ATN  18.700000   ATN   \n",
       "21 2017-02-02    1422     JDH     GJZ    GJZ     JDH    GJZ  10.716667   JDH   \n",
       "23 2017-02-02    1524     GJZ     JDH    JDH     GJZ    JDH  10.916667   GJZ   \n",
       "24 2017-02-02    1536     JDH     GJZ    GJZ     GJZ    JDH   7.133333   JDH   \n",
       "25 2017-02-03    0955     SPM     JDH    JDH     JDH    SPM   7.150000   SPM   \n",
       "26 2017-02-03    1302     GJZ     JDH    GJZ     JDH    GJZ  14.450000   JDH   \n",
       "27 2017-02-03    1449     JDH     GJZ    JDH     JDH    GJZ   9.950000   GJZ   \n",
       "28 2017-02-03    1618      AH     JDH    JDH     JDH     AH   8.633333    AH   \n",
       "29 2017-02-06    1315     JDH      RL    JDH     JDH     RL  17.183333    RL   \n",
       "30 2017-02-06    1510     JDH     GJZ    JDH     JDH    GJZ  29.433333   GJZ   \n",
       "31 2017-02-06    1712     GJZ     JDH    JDH     JDH    GJZ  12.516667   GJZ   \n",
       "32 2017-02-06    1727     RAL     GJZ    GJZ     RAL    GJZ   8.183333   RAL   \n",
       "33 2017-02-07    1026     ATN     GJZ    GJZ     GJZ    ATN  10.900000   ATN   \n",
       "34 2017-02-07    1300     JDH     GJZ    GJZ     JDH    GJZ  10.483333   JDH   \n",
       "35 2017-02-07    1455     ATN     GJZ    ATN     GJZ    ATN  15.016667   GJZ   \n",
       "36 2017-02-07    1640     NAS     JDH    JDH     NAS    JDH  11.416667   NAS   \n",
       "37 2017-02-08    1122     GJZ     JDH    JDH     JDH    GJZ  11.983333   GJZ   \n",
       "38 2017-02-08    1546     JDH     GJZ    GJZ     GJZ    JDH  15.050000   JDH   \n",
       "39 2017-02-10    1017     MAG     JDH    JDH     MAG    JDH  10.100000   MAG   \n",
       "40 2017-02-10    1419     JDH      JD    JDH      JD    JDH   8.400000    JD   \n",
       "42 2017-02-10    1517      JD     JDH     JD     JDH     JD  13.883333   JDH   \n",
       "43 2017-02-10    1534     MAG      JD     JD      JD    MAG  10.166667   MAG   \n",
       "44 2017-02-10    1548     GJZ     JDH    JDH     JDH    GJZ   1.366667   GJZ   \n",
       "45 2017-02-10    1551     JDH     GJZ    GJZ     JDH    GJZ  11.750000   JDH   \n",
       "46 2017-02-14    1013     GJZ     JDH    JDH     JDH    GJZ  12.300000   GJZ   \n",
       "47 2017-02-14    1255      JD     JDH    JDH      JD    JDH  11.000000    JD   \n",
       "48 2017-02-14    1357     JDH     MAG    MAG     JDH    MAG  10.450000   JDH   \n",
       "49 2017-02-14    1408     JDH     MAG    JDH     MAG    JDH   9.100000   MAG   \n",
       "50 2017-02-15    0917     JDH     GJZ    GJZ     GJZ    JDH  13.917000   JDH   \n",
       "\n",
       "    ind  \n",
       "0     1  \n",
       "1     1  \n",
       "2     1  \n",
       "3     1  \n",
       "4     1  \n",
       "5     1  \n",
       "6     1  \n",
       "7     1  \n",
       "8     1  \n",
       "9     1  \n",
       "10    1  \n",
       "12    1  \n",
       "13    1  \n",
       "14    1  \n",
       "15    1  \n",
       "16    1  \n",
       "17    1  \n",
       "18    1  \n",
       "19    1  \n",
       "20    1  \n",
       "21    1  \n",
       "23    1  \n",
       "24    1  \n",
       "25    1  \n",
       "26    1  \n",
       "27    1  \n",
       "28    1  \n",
       "29    1  \n",
       "30    1  \n",
       "31    1  \n",
       "32    1  \n",
       "33    1  \n",
       "34    1  \n",
       "35    1  \n",
       "36    1  \n",
       "37    1  \n",
       "38    1  \n",
       "39    1  \n",
       "40    1  \n",
       "42    1  \n",
       "43    1  \n",
       "44    1  \n",
       "45    1  \n",
       "46    1  \n",
       "47    1  \n",
       "48    1  \n",
       "49    1  \n",
       "50    1  "
      ]
     },
     "execution_count": 8,
     "metadata": {},
     "output_type": "execute_result"
    }
   ],
   "source": [
    "df_games"
   ]
  },
  {
   "cell_type": "markdown",
   "metadata": {},
   "source": [
    "### Aggregate head-to-head records\n",
    "\n",
    "Head to head records:"
   ]
  },
  {
   "cell_type": "code",
   "execution_count": 9,
   "metadata": {
    "collapsed": false,
    "scrolled": true
   },
   "outputs": [],
   "source": [
    "games_h2h_ct = df_games[['winner', 'loser', 'ind']].groupby(['winner', 'loser']).sum().reset_index()\n",
    "games_h2h = games_h2h_ct.pivot(index='loser', columns='winner', values='ind')\n",
    "\n",
    "del games_h2h.columns.name\n",
    "games_h2h.fillna(0, inplace=True)\n",
    "games_h2h.reset_index(inplace=True)\n",
    "games_h2h.set_index('loser', drop=True, inplace=True)\n",
    "games_h2h.index.name = None\n",
    "\n",
    "#games_h2h"
   ]
  },
  {
   "cell_type": "code",
   "execution_count": 10,
   "metadata": {
    "collapsed": false
   },
   "outputs": [],
   "source": [
    "all_players = set(games_h2h_ct.winner.values).union(set(games_h2h_ct.loser.values))"
   ]
  },
  {
   "cell_type": "markdown",
   "metadata": {},
   "source": [
    "Adjust so that all players are included in both axes"
   ]
  },
  {
   "cell_type": "code",
   "execution_count": 11,
   "metadata": {
    "collapsed": false
   },
   "outputs": [],
   "source": [
    "for player in all_players:\n",
    "    winners = games_h2h.columns\n",
    "    losers = games_h2h.index.values\n",
    "    \n",
    "    if player not in winners:\n",
    "        games_h2h[player] = 0\n",
    "    \n",
    "    if player not in losers:\n",
    "        games_h2h.loc[player] = list(np.zeros(games_h2h.shape[1]))"
   ]
  },
  {
   "cell_type": "markdown",
   "metadata": {},
   "source": [
    "Sort columns to make the matrix look nice"
   ]
  },
  {
   "cell_type": "code",
   "execution_count": 12,
   "metadata": {
    "collapsed": false
   },
   "outputs": [],
   "source": [
    "games_h2h = games_h2h.reindex_axis(sorted(games_h2h.columns), axis=1)\n",
    "games_h2h.sort_index(inplace=True)"
   ]
  },
  {
   "cell_type": "markdown",
   "metadata": {
    "collapsed": false
   },
   "source": [
    "Add in total wins and losses for each player:"
   ]
  },
  {
   "cell_type": "code",
   "execution_count": 13,
   "metadata": {
    "collapsed": true
   },
   "outputs": [],
   "source": [
    "games_h2h['losses'] = games_h2h.sum(axis=1)\n",
    "games_h2h.loc['wins'] = list(games_h2h.sum(axis=0))[:-1] + [0]"
   ]
  },
  {
   "cell_type": "markdown",
   "metadata": {},
   "source": [
    "#### Head-to-head heatmap \n",
    "\n",
    "See [stackoverflow](http://stackoverflow.com/questions/11917547/how-to-annotate-heatmap-with-text-in-matplotlib) for borrowed code for labeling text. For some reason need to run this (and sorting below as well) twice in order to get correct index ordering."
   ]
  },
  {
   "cell_type": "code",
   "execution_count": 14,
   "metadata": {
    "collapsed": false
   },
   "outputs": [
    {
     "data": {
      "image/png": "[encoded data removed]",
      "text/plain": [
       "<matplotlib.figure.Figure at 0x8086fd0>"
      ]
     },
     "metadata": {},
     "output_type": "display_data"
    }
   ],
   "source": [
    "scale = 0.75\n",
    "fig, ax = plt.subplots(figsize = (scale * games_h2h.shape[1], scale * games_h2h.shape[0]))\n",
    "heatmap = ax.pcolor(games_h2h, cmap = \"Blues\")\n",
    "\n",
    "# put the major ticks at the middle of each cell\n",
    "ax.set_xticks(np.arange(games_h2h.shape[1])+0.5, minor=False)\n",
    "ax.set_yticks(np.arange(games_h2h.shape[0])+0.5, minor=False)\n",
    "\n",
    "ax.set_xticklabels(games_h2h.columns)\n",
    "ax.set_yticklabels(games_h2h.index.values)\n",
    "\n",
    "ax.invert_yaxis()\n",
    "ax.xaxis.tick_top()\n",
    "\n",
    "for y in range(games_h2h.shape[0]):\n",
    "    for x in range(games_h2h.shape[1]):\n",
    "        val = games_h2h.iloc[y, x]\n",
    "        opp_val = games_h2h.iloc[x, y]\n",
    "        if val or opp_val:\n",
    "            plt.text(x + 0.5, y + 0.5, '%.1d' % val,\n",
    "                     horizontalalignment='center',\n",
    "                     verticalalignment='center',\n",
    "                     )"
   ]
  },
  {
   "cell_type": "code",
   "execution_count": 15,
   "metadata": {
    "collapsed": false
   },
   "outputs": [
    {
     "name": "stdout",
     "output_type": "stream",
     "text": [
      "['AH', 'ATN', 'GJZ', 'JD', 'JDH', 'JRM', 'MAG', 'NAS', 'RAL', 'RL', 'SPM', 'wins']\n",
      "['AH', 'ATN', 'GJZ', 'JD', 'JDH', 'JRM', 'MAG', 'NAS', 'RAL', 'RL', 'SPM', 'losses']\n"
     ]
    }
   ],
   "source": [
    "print list(games_h2h.index.values)\n",
    "print list(games_h2h.columns)"
   ]
  },
  {
   "cell_type": "markdown",
   "metadata": {},
   "source": [
    "#### Quick hits"
   ]
  },
  {
   "cell_type": "markdown",
   "metadata": {},
   "source": [
    "GZ stats"
   ]
  },
  {
   "cell_type": "code",
   "execution_count": 16,
   "metadata": {
    "collapsed": false
   },
   "outputs": [],
   "source": [
    "gz_games = df_games[((df_games.player1 == 'GJZ') | (df_games.player2 == 'GJZ'))]"
   ]
  },
  {
   "cell_type": "code",
   "execution_count": 17,
   "metadata": {
    "collapsed": false
   },
   "outputs": [
    {
     "name": "stdout",
     "output_type": "stream",
     "text": [
      "GZ win percentage: 0.64\n"
     ]
    }
   ],
   "source": [
    "print 'GZ win percentage: %.2f' % (len(gz_games[gz_games.winner == 'GJZ']) / float(len(gz_games)))"
   ]
  },
  {
   "cell_type": "markdown",
   "metadata": {},
   "source": [
    "How often does player who breaks win?"
   ]
  },
  {
   "cell_type": "code",
   "execution_count": 18,
   "metadata": {
    "collapsed": false
   },
   "outputs": [
    {
     "name": "stdout",
     "output_type": "stream",
     "text": [
      "Player 1 (breaker) win percentage: 0.46\n"
     ]
    }
   ],
   "source": [
    "print 'Player 1 (breaker) win percentage: %.2f' % (float(len(df_games[df_games.player1 == df_games.winner])) / len(df_games))"
   ]
  },
  {
   "cell_type": "code",
   "execution_count": null,
   "metadata": {
    "collapsed": true
   },
   "outputs": [],
   "source": []
  },
  {
   "cell_type": "markdown",
   "metadata": {},
   "source": [
    "### Elo Rating Systems"
   ]
  },
  {
   "cell_type": "markdown",
   "metadata": {},
   "source": [
    "Elo parameters"
   ]
  },
  {
   "cell_type": "code",
   "execution_count": 19,
   "metadata": {
    "collapsed": true
   },
   "outputs": [],
   "source": [
    "init_avg = 1500.\n",
    "sel_k = 20.\n",
    "exp_div = 400.\n",
    "\n",
    "kbase = 800.\n",
    "denom_const = 40. # higher values mean greater weighting on initial games"
   ]
  },
  {
   "cell_type": "markdown",
   "metadata": {},
   "source": [
    "#### Helper functions"
   ]
  },
  {
   "cell_type": "code",
   "execution_count": 20,
   "metadata": {
    "collapsed": true
   },
   "outputs": [],
   "source": [
    "def p_win_exp(p1, p2, div=exp_div):\n",
    "    p_win = 1. / (1. + 10. ** ((p2 - p1) / div))\n",
    "    \n",
    "    #print 'P(win)', '%.2f' % p_win \n",
    "    return p_win"
   ]
  },
  {
   "cell_type": "markdown",
   "metadata": {},
   "source": [
    "Simple $K$-factor"
   ]
  },
  {
   "cell_type": "code",
   "execution_count": 21,
   "metadata": {
    "collapsed": true
   },
   "outputs": [],
   "source": [
    "def new_score(p1r, p2r, score=1, k=sel_k):\n",
    "    # if p1 wins, score is 1\n",
    "    # if p1 loses, score is -1\n",
    "    delta = k * (score - p_win_exp(p1r, p2r))\n",
    "    \n",
    "    #print 'Point delta', '%.2f' % delta\n",
    "    return p1r + delta, p2r - delta"
   ]
  },
  {
   "cell_type": "markdown",
   "metadata": {},
   "source": [
    "Adjusted $K$-factor"
   ]
  },
  {
   "cell_type": "code",
   "execution_count": 22,
   "metadata": {
    "collapsed": true
   },
   "outputs": [],
   "source": [
    "def new_score_kadj1(p1r, p2r, g1, g2, kbase=kbase, score=1):\n",
    "    # if p1 wins, score is 1\n",
    "    # if p1 loses, score is -1\n",
    "    const = (score - p_win_exp(p1r, p2r))\n",
    "    delta1 = (kbase / (denom_const + g1)) * const\n",
    "    delta2 = (kbase / (denom_const + g2)) * const\n",
    "    \n",
    "#     print delta1, g1\n",
    "#     print delta2, g2\n",
    "\n",
    "    return p1r + delta1, p2r - delta2"
   ]
  },
  {
   "cell_type": "markdown",
   "metadata": {},
   "source": [
    "#### Reset the Elo records"
   ]
  },
  {
   "cell_type": "code",
   "execution_count": 23,
   "metadata": {
    "collapsed": false
   },
   "outputs": [],
   "source": [
    "seq_info = pd.DataFrame(games_h2h.index)\n",
    "seq_info.columns = ['player']\n",
    "\n",
    "seq_info['simple_elo'] = init_avg\n",
    "seq_info['adj_elo1'] = init_avg\n",
    "seq_info['num_wins'] = 0.\n",
    "seq_info['tot_games'] = 0.\n",
    "seq_info = seq_info[seq_info.player != 'wins']"
   ]
  },
  {
   "cell_type": "code",
   "execution_count": 24,
   "metadata": {
    "collapsed": true
   },
   "outputs": [],
   "source": [
    "seq_info.set_index('player', inplace=True, drop=True)\n",
    "seq_info.index.name = None"
   ]
  },
  {
   "cell_type": "code",
   "execution_count": 25,
   "metadata": {
    "collapsed": false
   },
   "outputs": [],
   "source": [
    "assert((seq_info.simple_elo.values == 1500.).all())\n",
    "assert((seq_info.adj_elo1.values == 1500.).all())"
   ]
  },
  {
   "cell_type": "markdown",
   "metadata": {},
   "source": [
    "#### Run through the game log:"
   ]
  },
  {
   "cell_type": "code",
   "execution_count": 26,
   "metadata": {
    "collapsed": false
   },
   "outputs": [],
   "source": [
    "for idx, row in df_games.iterrows():\n",
    "    winner = row['winner']\n",
    "    loser = row['loser']\n",
    "    \n",
    "    g1 = seq_info.loc[winner]['tot_games']\n",
    "    g2 = seq_info.loc[loser]['tot_games']\n",
    "    \n",
    "    # update game counts and victories\n",
    "    seq_info.loc[winner]['num_wins'] += 1\n",
    "    seq_info.loc[winner]['tot_games'] += 1\n",
    "    seq_info.loc[loser]['tot_games'] += 1\n",
    "    \n",
    "    # adjust elo across all systems\n",
    "    (seq_info.loc[winner]['simple_elo'], seq_info.loc[loser]['simple_elo']) \\\n",
    "        = new_score(seq_info.loc[winner]['simple_elo'], seq_info.loc[loser]['simple_elo'])\n",
    "\n",
    "    (seq_info.loc[winner]['adj_elo1'], seq_info.loc[loser]['adj_elo1']) \\\n",
    "        = new_score_kadj1(seq_info.loc[winner]['adj_elo1'], seq_info.loc[loser]['adj_elo1'],\n",
    "                         g1, g2)"
   ]
  },
  {
   "cell_type": "code",
   "execution_count": 27,
   "metadata": {
    "collapsed": false
   },
   "outputs": [
    {
     "data": {
      "text/html": [
       "<div>\n",
       "<table border=\"1\" class=\"dataframe\">\n",
       "  <thead>\n",
       "    <tr style=\"text-align: right;\">\n",
       "      <th></th>\n",
       "      <th>simple_elo</th>\n",
       "      <th>adj_elo1</th>\n",
       "      <th>num_wins</th>\n",
       "      <th>tot_games</th>\n",
       "    </tr>\n",
       "  </thead>\n",
       "  <tbody>\n",
       "    <tr>\n",
       "      <th>JDH</th>\n",
       "      <td>1558.856362</td>\n",
       "      <td>1542.366972</td>\n",
       "      <td>22.0</td>\n",
       "      <td>38.0</td>\n",
       "    </tr>\n",
       "    <tr>\n",
       "      <th>GJZ</th>\n",
       "      <td>1556.446419</td>\n",
       "      <td>1550.007517</td>\n",
       "      <td>18.0</td>\n",
       "      <td>28.0</td>\n",
       "    </tr>\n",
       "    <tr>\n",
       "      <th>RL</th>\n",
       "      <td>1499.401657</td>\n",
       "      <td>1499.382930</td>\n",
       "      <td>1.0</td>\n",
       "      <td>2.0</td>\n",
       "    </tr>\n",
       "    <tr>\n",
       "      <th>MAG</th>\n",
       "      <td>1493.611872</td>\n",
       "      <td>1492.685665</td>\n",
       "      <td>2.0</td>\n",
       "      <td>5.0</td>\n",
       "    </tr>\n",
       "    <tr>\n",
       "      <th>NAS</th>\n",
       "      <td>1491.338949</td>\n",
       "      <td>1490.878656</td>\n",
       "      <td>0.0</td>\n",
       "      <td>1.0</td>\n",
       "    </tr>\n",
       "    <tr>\n",
       "      <th>RAL</th>\n",
       "      <td>1491.148604</td>\n",
       "      <td>1491.176224</td>\n",
       "      <td>0.0</td>\n",
       "      <td>1.0</td>\n",
       "    </tr>\n",
       "    <tr>\n",
       "      <th>JRM</th>\n",
       "      <td>1490.000000</td>\n",
       "      <td>1490.000000</td>\n",
       "      <td>0.0</td>\n",
       "      <td>1.0</td>\n",
       "    </tr>\n",
       "    <tr>\n",
       "      <th>SPM</th>\n",
       "      <td>1488.799158</td>\n",
       "      <td>1490.578936</td>\n",
       "      <td>2.0</td>\n",
       "      <td>5.0</td>\n",
       "    </tr>\n",
       "    <tr>\n",
       "      <th>ATN</th>\n",
       "      <td>1486.960260</td>\n",
       "      <td>1486.319850</td>\n",
       "      <td>1.0</td>\n",
       "      <td>4.0</td>\n",
       "    </tr>\n",
       "    <tr>\n",
       "      <th>AH</th>\n",
       "      <td>1480.430218</td>\n",
       "      <td>1480.479887</td>\n",
       "      <td>0.0</td>\n",
       "      <td>2.0</td>\n",
       "    </tr>\n",
       "    <tr>\n",
       "      <th>JD</th>\n",
       "      <td>1463.006500</td>\n",
       "      <td>1461.943742</td>\n",
       "      <td>2.0</td>\n",
       "      <td>9.0</td>\n",
       "    </tr>\n",
       "  </tbody>\n",
       "</table>\n",
       "</div>"
      ],
      "text/plain": [
       "      simple_elo     adj_elo1  num_wins  tot_games\n",
       "JDH  1558.856362  1542.366972      22.0       38.0\n",
       "GJZ  1556.446419  1550.007517      18.0       28.0\n",
       "RL   1499.401657  1499.382930       1.0        2.0\n",
       "MAG  1493.611872  1492.685665       2.0        5.0\n",
       "NAS  1491.338949  1490.878656       0.0        1.0\n",
       "RAL  1491.148604  1491.176224       0.0        1.0\n",
       "JRM  1490.000000  1490.000000       0.0        1.0\n",
       "SPM  1488.799158  1490.578936       2.0        5.0\n",
       "ATN  1486.960260  1486.319850       1.0        4.0\n",
       "AH   1480.430218  1480.479887       0.0        2.0\n",
       "JD   1463.006500  1461.943742       2.0        9.0"
      ]
     },
     "execution_count": 27,
     "metadata": {},
     "output_type": "execute_result"
    }
   ],
   "source": [
    "seq_info.sort_values('simple_elo', ascending=False)"
   ]
  },
  {
   "cell_type": "code",
   "execution_count": 29,
   "metadata": {
    "collapsed": false
   },
   "outputs": [
    {
     "data": {
      "text/plain": [
       "10.999999999999998"
      ]
     },
     "execution_count": 29,
     "metadata": {},
     "output_type": "execute_result"
    }
   ],
   "source": [
    "sum(seq_info.simple_elo) / init_avg"
   ]
  },
  {
   "cell_type": "code",
   "execution_count": null,
   "metadata": {
    "collapsed": true
   },
   "outputs": [],
   "source": []
  }
 ],
 "metadata": {
  "anaconda-cloud": {},
  "kernelspec": {
   "display_name": "Python [Root]",
   "language": "python",
   "name": "Python [Root]"
  },
  "language_info": {
   "codemirror_mode": {
    "name": "ipython",
    "version": 2
   },
   "file_extension": ".py",
   "mimetype": "text/x-python",
   "name": "python",
   "nbconvert_exporter": "python",
   "pygments_lexer": "ipython2",
   "version": "2.7.12"
  }
 },
 "nbformat": 4,
 "nbformat_minor": 0
}
