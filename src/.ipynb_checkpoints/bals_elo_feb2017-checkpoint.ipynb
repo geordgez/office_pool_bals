{
 "cells": [
  {
   "cell_type": "code",
   "execution_count": 2,
   "metadata": {
    "collapsed": true
   },
   "outputs": [],
   "source": [
    "%matplotlib inline"
   ]
  },
  {
   "cell_type": "code",
   "execution_count": 3,
   "metadata": {
    "collapsed": false
   },
   "outputs": [],
   "source": [
    "import numpy as np\n",
    "import pandas as pd\n",
    "from matplotlib import pyplot as plt\n",
    "\n",
    "import re\n",
    "import csv\n",
    "\n",
    "import os"
   ]
  },
  {
   "cell_type": "markdown",
   "metadata": {},
   "source": [
    "### Individual Games\n",
    "\n",
    "Read in data on individual games"
   ]
  },
  {
   "cell_type": "code",
   "execution_count": 4,
   "metadata": {
    "collapsed": true
   },
   "outputs": [],
   "source": [
    "# make sure there's a date and csv\n",
    "meta_re = re.compile('\\_(\\d{4})-(\\d{2})-(\\d{2})-(\\d*).*(?=csv)', re.DOTALL)"
   ]
  },
  {
   "cell_type": "code",
   "execution_count": 5,
   "metadata": {
    "collapsed": false
   },
   "outputs": [],
   "source": [
    "data_dir = '../data_170215/'\n",
    "game_data = []\n",
    "\n",
    "for file in os.listdir(data_dir):\n",
    "    meta_info = set()\n",
    "    meta_match = meta_re.search(file)\n",
    "    \n",
    "    if meta_match:\n",
    "        meta_info = meta_match.groups()\n",
    "        date = '-'.join(meta_info[:-1])\n",
    "        g_id = meta_info[-1]\n",
    "        \n",
    "        with open(data_dir + file, 'rb') as infile:\n",
    "            reader = csv.reader(infile)\n",
    "            for row in reader:\n",
    "                if 'Duration' not in row:\n",
    "                    full_row = row\n",
    "                    full_row.append(row[((row[0] == row[2]) + 1) / 2])\n",
    "                    game_data.append([date, g_id] + full_row)\n",
    "            infile.close()\n",
    "            "
   ]
  },
  {
   "cell_type": "code",
   "execution_count": 6,
   "metadata": {
    "collapsed": false
   },
   "outputs": [],
   "source": [
    "game_data_cols = ['date', 'game_id', 'player1', 'player2', 'winner', 'stripes', 'solids', 'duration', 'loser']\n",
    "df_games = pd.DataFrame(game_data, columns=game_data_cols)"
   ]
  },
  {
   "cell_type": "code",
   "execution_count": 7,
   "metadata": {
    "collapsed": false
   },
   "outputs": [],
   "source": [
    "df_games['date'] = pd.to_datetime(df_games.date)\n",
    "df_games['duration'] = df_games.duration.astype(float)\n",
    "df_games['ind'] = 1"
   ]
  },
  {
   "cell_type": "code",
   "execution_count": 8,
   "metadata": {
    "collapsed": false
   },
   "outputs": [],
   "source": [
    "df_games = df_games[((df_games.player1 != '') & (df_games.player2 != ''))]"
   ]
  },
  {
   "cell_type": "code",
   "execution_count": 9,
   "metadata": {
    "collapsed": false
   },
   "outputs": [
    {
     "data": {
      "text/html": [
       "<div>\n",
       "<table border=\"1\" class=\"dataframe\">\n",
       "  <thead>\n",
       "    <tr style=\"text-align: right;\">\n",
       "      <th></th>\n",
       "      <th>date</th>\n",
       "      <th>game_id</th>\n",
       "      <th>player1</th>\n",
       "      <th>player2</th>\n",
       "      <th>winner</th>\n",
       "      <th>stripes</th>\n",
       "      <th>solids</th>\n",
       "      <th>duration</th>\n",
       "      <th>loser</th>\n",
       "      <th>ind</th>\n",
       "    </tr>\n",
       "  </thead>\n",
       "  <tbody>\n",
       "    <tr>\n",
       "      <th>0</th>\n",
       "      <td>2017-01-20</td>\n",
       "      <td>1712</td>\n",
       "      <td>SPM</td>\n",
       "      <td>JRM</td>\n",
       "      <td>SPM</td>\n",
       "      <td>SPM</td>\n",
       "      <td>JRM</td>\n",
       "      <td>8.550000</td>\n",
       "      <td>JRM</td>\n",
       "      <td>1</td>\n",
       "    </tr>\n",
       "    <tr>\n",
       "      <th>1</th>\n",
       "      <td>2017-01-26</td>\n",
       "      <td>0815</td>\n",
       "      <td>SPM</td>\n",
       "      <td>JDH</td>\n",
       "      <td>SPM</td>\n",
       "      <td>JDH</td>\n",
       "      <td>SPM</td>\n",
       "      <td>9.750000</td>\n",
       "      <td>JDH</td>\n",
       "      <td>1</td>\n",
       "    </tr>\n",
       "    <tr>\n",
       "      <th>2</th>\n",
       "      <td>2017-01-26</td>\n",
       "      <td>1141</td>\n",
       "      <td>JDH</td>\n",
       "      <td>GJZ</td>\n",
       "      <td>GJZ</td>\n",
       "      <td>GJZ</td>\n",
       "      <td>JDH</td>\n",
       "      <td>12.666667</td>\n",
       "      <td>JDH</td>\n",
       "      <td>1</td>\n",
       "    </tr>\n",
       "    <tr>\n",
       "      <th>3</th>\n",
       "      <td>2017-01-26</td>\n",
       "      <td>1337</td>\n",
       "      <td>MAG</td>\n",
       "      <td>JDH</td>\n",
       "      <td>MAG</td>\n",
       "      <td>JDH</td>\n",
       "      <td>MAG</td>\n",
       "      <td>13.600000</td>\n",
       "      <td>JDH</td>\n",
       "      <td>1</td>\n",
       "    </tr>\n",
       "    <tr>\n",
       "      <th>4</th>\n",
       "      <td>2017-01-26</td>\n",
       "      <td>1624</td>\n",
       "      <td>GJZ</td>\n",
       "      <td>JD</td>\n",
       "      <td>GJZ</td>\n",
       "      <td>JD</td>\n",
       "      <td>GJZ</td>\n",
       "      <td>19.450000</td>\n",
       "      <td>JD</td>\n",
       "      <td>1</td>\n",
       "    </tr>\n",
       "    <tr>\n",
       "      <th>5</th>\n",
       "      <td>2017-01-27</td>\n",
       "      <td>1412</td>\n",
       "      <td>JDH</td>\n",
       "      <td>SPM</td>\n",
       "      <td>JDH</td>\n",
       "      <td>JDH</td>\n",
       "      <td>SPM</td>\n",
       "      <td>9.516667</td>\n",
       "      <td>SPM</td>\n",
       "      <td>1</td>\n",
       "    </tr>\n",
       "    <tr>\n",
       "      <th>6</th>\n",
       "      <td>2017-01-27</td>\n",
       "      <td>1449</td>\n",
       "      <td>JD</td>\n",
       "      <td>JDH</td>\n",
       "      <td>JDH</td>\n",
       "      <td>JDH</td>\n",
       "      <td>JD</td>\n",
       "      <td>13.850000</td>\n",
       "      <td>JD</td>\n",
       "      <td>1</td>\n",
       "    </tr>\n",
       "    <tr>\n",
       "      <th>7</th>\n",
       "      <td>2017-01-27</td>\n",
       "      <td>1518</td>\n",
       "      <td>MKG</td>\n",
       "      <td>MKG2</td>\n",
       "      <td>MKG</td>\n",
       "      <td>MKG2</td>\n",
       "      <td>MKG</td>\n",
       "      <td>7.766667</td>\n",
       "      <td>MKG2</td>\n",
       "      <td>1</td>\n",
       "    </tr>\n",
       "    <tr>\n",
       "      <th>8</th>\n",
       "      <td>2017-01-30</td>\n",
       "      <td>1156</td>\n",
       "      <td>SPM</td>\n",
       "      <td>GJZ</td>\n",
       "      <td>GJZ</td>\n",
       "      <td>GJZ</td>\n",
       "      <td>SPM</td>\n",
       "      <td>11.583333</td>\n",
       "      <td>SPM</td>\n",
       "      <td>1</td>\n",
       "    </tr>\n",
       "    <tr>\n",
       "      <th>9</th>\n",
       "      <td>2017-01-30</td>\n",
       "      <td>1318</td>\n",
       "      <td>GJZ</td>\n",
       "      <td>JDH</td>\n",
       "      <td>GJZ</td>\n",
       "      <td>GJZ</td>\n",
       "      <td>JDH</td>\n",
       "      <td>10.766667</td>\n",
       "      <td>JDH</td>\n",
       "      <td>1</td>\n",
       "    </tr>\n",
       "    <tr>\n",
       "      <th>10</th>\n",
       "      <td>2017-01-30</td>\n",
       "      <td>1330</td>\n",
       "      <td>JDH</td>\n",
       "      <td>GJZ</td>\n",
       "      <td>JDH</td>\n",
       "      <td>GJZ</td>\n",
       "      <td>JDH</td>\n",
       "      <td>11.833333</td>\n",
       "      <td>GJZ</td>\n",
       "      <td>1</td>\n",
       "    </tr>\n",
       "    <tr>\n",
       "      <th>11</th>\n",
       "      <td>2017-01-30</td>\n",
       "      <td>1430</td>\n",
       "      <td>JDH</td>\n",
       "      <td>JD</td>\n",
       "      <td>JDH</td>\n",
       "      <td>JDH</td>\n",
       "      <td>JD</td>\n",
       "      <td>7.750000</td>\n",
       "      <td>JD</td>\n",
       "      <td>1</td>\n",
       "    </tr>\n",
       "    <tr>\n",
       "      <th>13</th>\n",
       "      <td>2017-01-30</td>\n",
       "      <td>1441</td>\n",
       "      <td>JD</td>\n",
       "      <td>JDH</td>\n",
       "      <td>JDH</td>\n",
       "      <td>JDH</td>\n",
       "      <td>JD</td>\n",
       "      <td>13.366667</td>\n",
       "      <td>JD</td>\n",
       "      <td>1</td>\n",
       "    </tr>\n",
       "    <tr>\n",
       "      <th>14</th>\n",
       "      <td>2017-01-30</td>\n",
       "      <td>1558</td>\n",
       "      <td>GJZ</td>\n",
       "      <td>ATN</td>\n",
       "      <td>GJZ</td>\n",
       "      <td>GJZ</td>\n",
       "      <td>ATN</td>\n",
       "      <td>9.783333</td>\n",
       "      <td>ATN</td>\n",
       "      <td>1</td>\n",
       "    </tr>\n",
       "    <tr>\n",
       "      <th>15</th>\n",
       "      <td>2017-01-30</td>\n",
       "      <td>1713</td>\n",
       "      <td>RL</td>\n",
       "      <td>JD</td>\n",
       "      <td>RL</td>\n",
       "      <td>RL</td>\n",
       "      <td>JD</td>\n",
       "      <td>12.700000</td>\n",
       "      <td>JD</td>\n",
       "      <td>1</td>\n",
       "    </tr>\n",
       "    <tr>\n",
       "      <th>16</th>\n",
       "      <td>2017-01-31</td>\n",
       "      <td>1054</td>\n",
       "      <td>JDH</td>\n",
       "      <td>GJZ</td>\n",
       "      <td>GJZ</td>\n",
       "      <td>GJZ</td>\n",
       "      <td>JDH</td>\n",
       "      <td>10.500000</td>\n",
       "      <td>JDH</td>\n",
       "      <td>1</td>\n",
       "    </tr>\n",
       "    <tr>\n",
       "      <th>17</th>\n",
       "      <td>2017-01-31</td>\n",
       "      <td>1105</td>\n",
       "      <td>GJZ</td>\n",
       "      <td>JDH</td>\n",
       "      <td>GJZ</td>\n",
       "      <td>GJZ</td>\n",
       "      <td>JDH</td>\n",
       "      <td>13.000000</td>\n",
       "      <td>JDH</td>\n",
       "      <td>1</td>\n",
       "    </tr>\n",
       "    <tr>\n",
       "      <th>18</th>\n",
       "      <td>2017-01-31</td>\n",
       "      <td>1438</td>\n",
       "      <td>JDH</td>\n",
       "      <td>GJZ</td>\n",
       "      <td>GJZ</td>\n",
       "      <td>GJZ</td>\n",
       "      <td>JDH</td>\n",
       "      <td>11.133333</td>\n",
       "      <td>JDH</td>\n",
       "      <td>1</td>\n",
       "    </tr>\n",
       "    <tr>\n",
       "      <th>19</th>\n",
       "      <td>2017-02-01</td>\n",
       "      <td>1339</td>\n",
       "      <td>JDH</td>\n",
       "      <td>AH</td>\n",
       "      <td>JDH</td>\n",
       "      <td>JDH</td>\n",
       "      <td>AH</td>\n",
       "      <td>7.233333</td>\n",
       "      <td>AH</td>\n",
       "      <td>1</td>\n",
       "    </tr>\n",
       "    <tr>\n",
       "      <th>20</th>\n",
       "      <td>2017-02-01</td>\n",
       "      <td>1410</td>\n",
       "      <td>JDH</td>\n",
       "      <td>GJZ</td>\n",
       "      <td>JDH</td>\n",
       "      <td>GJZ</td>\n",
       "      <td>JDH</td>\n",
       "      <td>15.866667</td>\n",
       "      <td>GJZ</td>\n",
       "      <td>1</td>\n",
       "    </tr>\n",
       "    <tr>\n",
       "      <th>21</th>\n",
       "      <td>2017-02-02</td>\n",
       "      <td>1155</td>\n",
       "      <td>GJZ</td>\n",
       "      <td>ATN</td>\n",
       "      <td>GJZ</td>\n",
       "      <td>ATN</td>\n",
       "      <td>GJZ</td>\n",
       "      <td>18.700000</td>\n",
       "      <td>ATN</td>\n",
       "      <td>1</td>\n",
       "    </tr>\n",
       "    <tr>\n",
       "      <th>22</th>\n",
       "      <td>2017-02-02</td>\n",
       "      <td>1422</td>\n",
       "      <td>JDH</td>\n",
       "      <td>GJZ</td>\n",
       "      <td>GJZ</td>\n",
       "      <td>GJZ</td>\n",
       "      <td>JDH</td>\n",
       "      <td>10.716667</td>\n",
       "      <td>JDH</td>\n",
       "      <td>1</td>\n",
       "    </tr>\n",
       "    <tr>\n",
       "      <th>24</th>\n",
       "      <td>2017-02-02</td>\n",
       "      <td>1524</td>\n",
       "      <td>GJZ</td>\n",
       "      <td>JDH</td>\n",
       "      <td>JDH</td>\n",
       "      <td>JDH</td>\n",
       "      <td>GJZ</td>\n",
       "      <td>10.916667</td>\n",
       "      <td>GJZ</td>\n",
       "      <td>1</td>\n",
       "    </tr>\n",
       "    <tr>\n",
       "      <th>25</th>\n",
       "      <td>2017-02-02</td>\n",
       "      <td>1536</td>\n",
       "      <td>JDH</td>\n",
       "      <td>GJZ</td>\n",
       "      <td>GJZ</td>\n",
       "      <td>JDH</td>\n",
       "      <td>GJZ</td>\n",
       "      <td>7.133333</td>\n",
       "      <td>JDH</td>\n",
       "      <td>1</td>\n",
       "    </tr>\n",
       "    <tr>\n",
       "      <th>26</th>\n",
       "      <td>2017-02-03</td>\n",
       "      <td>0955</td>\n",
       "      <td>SPM</td>\n",
       "      <td>JDH</td>\n",
       "      <td>JDH</td>\n",
       "      <td>SPM</td>\n",
       "      <td>JDH</td>\n",
       "      <td>7.150000</td>\n",
       "      <td>SPM</td>\n",
       "      <td>1</td>\n",
       "    </tr>\n",
       "    <tr>\n",
       "      <th>27</th>\n",
       "      <td>2017-02-03</td>\n",
       "      <td>1302</td>\n",
       "      <td>GJZ</td>\n",
       "      <td>JDH</td>\n",
       "      <td>GJZ</td>\n",
       "      <td>GJZ</td>\n",
       "      <td>JDH</td>\n",
       "      <td>14.450000</td>\n",
       "      <td>JDH</td>\n",
       "      <td>1</td>\n",
       "    </tr>\n",
       "    <tr>\n",
       "      <th>28</th>\n",
       "      <td>2017-02-03</td>\n",
       "      <td>1449</td>\n",
       "      <td>JDH</td>\n",
       "      <td>GJZ</td>\n",
       "      <td>JDH</td>\n",
       "      <td>GJZ</td>\n",
       "      <td>JDH</td>\n",
       "      <td>9.950000</td>\n",
       "      <td>GJZ</td>\n",
       "      <td>1</td>\n",
       "    </tr>\n",
       "    <tr>\n",
       "      <th>29</th>\n",
       "      <td>2017-02-03</td>\n",
       "      <td>1618</td>\n",
       "      <td>AH</td>\n",
       "      <td>JDH</td>\n",
       "      <td>JDH</td>\n",
       "      <td>AH</td>\n",
       "      <td>JDH</td>\n",
       "      <td>8.633333</td>\n",
       "      <td>AH</td>\n",
       "      <td>1</td>\n",
       "    </tr>\n",
       "    <tr>\n",
       "      <th>30</th>\n",
       "      <td>2017-02-06</td>\n",
       "      <td>1315</td>\n",
       "      <td>JDH</td>\n",
       "      <td>RL</td>\n",
       "      <td>JDH</td>\n",
       "      <td>RL</td>\n",
       "      <td>JDH</td>\n",
       "      <td>17.183333</td>\n",
       "      <td>RL</td>\n",
       "      <td>1</td>\n",
       "    </tr>\n",
       "    <tr>\n",
       "      <th>31</th>\n",
       "      <td>2017-02-06</td>\n",
       "      <td>1510</td>\n",
       "      <td>JDH</td>\n",
       "      <td>GJZ</td>\n",
       "      <td>JDH</td>\n",
       "      <td>GJZ</td>\n",
       "      <td>JDH</td>\n",
       "      <td>29.433333</td>\n",
       "      <td>GJZ</td>\n",
       "      <td>1</td>\n",
       "    </tr>\n",
       "    <tr>\n",
       "      <th>32</th>\n",
       "      <td>2017-02-06</td>\n",
       "      <td>1712</td>\n",
       "      <td>GJZ</td>\n",
       "      <td>JDH</td>\n",
       "      <td>JDH</td>\n",
       "      <td>GJZ</td>\n",
       "      <td>JDH</td>\n",
       "      <td>12.516667</td>\n",
       "      <td>GJZ</td>\n",
       "      <td>1</td>\n",
       "    </tr>\n",
       "    <tr>\n",
       "      <th>33</th>\n",
       "      <td>2017-02-06</td>\n",
       "      <td>1727</td>\n",
       "      <td>RAL</td>\n",
       "      <td>GJZ</td>\n",
       "      <td>GJZ</td>\n",
       "      <td>GJZ</td>\n",
       "      <td>RAL</td>\n",
       "      <td>8.183333</td>\n",
       "      <td>RAL</td>\n",
       "      <td>1</td>\n",
       "    </tr>\n",
       "    <tr>\n",
       "      <th>34</th>\n",
       "      <td>2017-02-07</td>\n",
       "      <td>1026</td>\n",
       "      <td>ATN</td>\n",
       "      <td>GJZ</td>\n",
       "      <td>GJZ</td>\n",
       "      <td>ATN</td>\n",
       "      <td>GJZ</td>\n",
       "      <td>10.900000</td>\n",
       "      <td>ATN</td>\n",
       "      <td>1</td>\n",
       "    </tr>\n",
       "    <tr>\n",
       "      <th>35</th>\n",
       "      <td>2017-02-07</td>\n",
       "      <td>1300</td>\n",
       "      <td>JDH</td>\n",
       "      <td>GJZ</td>\n",
       "      <td>GJZ</td>\n",
       "      <td>GJZ</td>\n",
       "      <td>JDH</td>\n",
       "      <td>10.483333</td>\n",
       "      <td>JDH</td>\n",
       "      <td>1</td>\n",
       "    </tr>\n",
       "    <tr>\n",
       "      <th>36</th>\n",
       "      <td>2017-02-07</td>\n",
       "      <td>1455</td>\n",
       "      <td>ATN</td>\n",
       "      <td>GJZ</td>\n",
       "      <td>ATN</td>\n",
       "      <td>ATN</td>\n",
       "      <td>GJZ</td>\n",
       "      <td>15.016667</td>\n",
       "      <td>GJZ</td>\n",
       "      <td>1</td>\n",
       "    </tr>\n",
       "    <tr>\n",
       "      <th>37</th>\n",
       "      <td>2017-02-07</td>\n",
       "      <td>1640</td>\n",
       "      <td>NAS</td>\n",
       "      <td>JDH</td>\n",
       "      <td>JDH</td>\n",
       "      <td>JDH</td>\n",
       "      <td>NAS</td>\n",
       "      <td>11.416667</td>\n",
       "      <td>NAS</td>\n",
       "      <td>1</td>\n",
       "    </tr>\n",
       "    <tr>\n",
       "      <th>38</th>\n",
       "      <td>2017-02-08</td>\n",
       "      <td>1122</td>\n",
       "      <td>GJZ</td>\n",
       "      <td>JDH</td>\n",
       "      <td>JDH</td>\n",
       "      <td>GJZ</td>\n",
       "      <td>JDH</td>\n",
       "      <td>11.983333</td>\n",
       "      <td>GJZ</td>\n",
       "      <td>1</td>\n",
       "    </tr>\n",
       "    <tr>\n",
       "      <th>39</th>\n",
       "      <td>2017-02-08</td>\n",
       "      <td>1546</td>\n",
       "      <td>JDH</td>\n",
       "      <td>GJZ</td>\n",
       "      <td>GJZ</td>\n",
       "      <td>JDH</td>\n",
       "      <td>GJZ</td>\n",
       "      <td>15.050000</td>\n",
       "      <td>JDH</td>\n",
       "      <td>1</td>\n",
       "    </tr>\n",
       "    <tr>\n",
       "      <th>40</th>\n",
       "      <td>2017-02-10</td>\n",
       "      <td>1017</td>\n",
       "      <td>MAG</td>\n",
       "      <td>JDH</td>\n",
       "      <td>JDH</td>\n",
       "      <td>JDH</td>\n",
       "      <td>MAG</td>\n",
       "      <td>10.100000</td>\n",
       "      <td>MAG</td>\n",
       "      <td>1</td>\n",
       "    </tr>\n",
       "  </tbody>\n",
       "</table>\n",
       "</div>"
      ],
      "text/plain": [
       "         date game_id player1 player2 winner stripes solids   duration loser  \\\n",
       "0  2017-01-20    1712     SPM     JRM    SPM     SPM    JRM   8.550000   JRM   \n",
       "1  2017-01-26    0815     SPM     JDH    SPM     JDH    SPM   9.750000   JDH   \n",
       "2  2017-01-26    1141     JDH     GJZ    GJZ     GJZ    JDH  12.666667   JDH   \n",
       "3  2017-01-26    1337     MAG     JDH    MAG     JDH    MAG  13.600000   JDH   \n",
       "4  2017-01-26    1624     GJZ      JD    GJZ      JD    GJZ  19.450000    JD   \n",
       "5  2017-01-27    1412     JDH     SPM    JDH     JDH    SPM   9.516667   SPM   \n",
       "6  2017-01-27    1449      JD     JDH    JDH     JDH     JD  13.850000    JD   \n",
       "7  2017-01-27    1518     MKG    MKG2    MKG    MKG2    MKG   7.766667  MKG2   \n",
       "8  2017-01-30    1156     SPM     GJZ    GJZ     GJZ    SPM  11.583333   SPM   \n",
       "9  2017-01-30    1318     GJZ     JDH    GJZ     GJZ    JDH  10.766667   JDH   \n",
       "10 2017-01-30    1330     JDH     GJZ    JDH     GJZ    JDH  11.833333   GJZ   \n",
       "11 2017-01-30    1430     JDH      JD    JDH     JDH     JD   7.750000    JD   \n",
       "13 2017-01-30    1441      JD     JDH    JDH     JDH     JD  13.366667    JD   \n",
       "14 2017-01-30    1558     GJZ     ATN    GJZ     GJZ    ATN   9.783333   ATN   \n",
       "15 2017-01-30    1713      RL      JD     RL      RL     JD  12.700000    JD   \n",
       "16 2017-01-31    1054     JDH     GJZ    GJZ     GJZ    JDH  10.500000   JDH   \n",
       "17 2017-01-31    1105     GJZ     JDH    GJZ     GJZ    JDH  13.000000   JDH   \n",
       "18 2017-01-31    1438     JDH     GJZ    GJZ     GJZ    JDH  11.133333   JDH   \n",
       "19 2017-02-01    1339     JDH      AH    JDH     JDH     AH   7.233333    AH   \n",
       "20 2017-02-01    1410     JDH     GJZ    JDH     GJZ    JDH  15.866667   GJZ   \n",
       "21 2017-02-02    1155     GJZ     ATN    GJZ     ATN    GJZ  18.700000   ATN   \n",
       "22 2017-02-02    1422     JDH     GJZ    GJZ     GJZ    JDH  10.716667   JDH   \n",
       "24 2017-02-02    1524     GJZ     JDH    JDH     JDH    GJZ  10.916667   GJZ   \n",
       "25 2017-02-02    1536     JDH     GJZ    GJZ     JDH    GJZ   7.133333   JDH   \n",
       "26 2017-02-03    0955     SPM     JDH    JDH     SPM    JDH   7.150000   SPM   \n",
       "27 2017-02-03    1302     GJZ     JDH    GJZ     GJZ    JDH  14.450000   JDH   \n",
       "28 2017-02-03    1449     JDH     GJZ    JDH     GJZ    JDH   9.950000   GJZ   \n",
       "29 2017-02-03    1618      AH     JDH    JDH      AH    JDH   8.633333    AH   \n",
       "30 2017-02-06    1315     JDH      RL    JDH      RL    JDH  17.183333    RL   \n",
       "31 2017-02-06    1510     JDH     GJZ    JDH     GJZ    JDH  29.433333   GJZ   \n",
       "32 2017-02-06    1712     GJZ     JDH    JDH     GJZ    JDH  12.516667   GJZ   \n",
       "33 2017-02-06    1727     RAL     GJZ    GJZ     GJZ    RAL   8.183333   RAL   \n",
       "34 2017-02-07    1026     ATN     GJZ    GJZ     ATN    GJZ  10.900000   ATN   \n",
       "35 2017-02-07    1300     JDH     GJZ    GJZ     GJZ    JDH  10.483333   JDH   \n",
       "36 2017-02-07    1455     ATN     GJZ    ATN     ATN    GJZ  15.016667   GJZ   \n",
       "37 2017-02-07    1640     NAS     JDH    JDH     JDH    NAS  11.416667   NAS   \n",
       "38 2017-02-08    1122     GJZ     JDH    JDH     GJZ    JDH  11.983333   GJZ   \n",
       "39 2017-02-08    1546     JDH     GJZ    GJZ     JDH    GJZ  15.050000   JDH   \n",
       "40 2017-02-10    1017     MAG     JDH    JDH     JDH    MAG  10.100000   MAG   \n",
       "\n",
       "    ind  \n",
       "0     1  \n",
       "1     1  \n",
       "2     1  \n",
       "3     1  \n",
       "4     1  \n",
       "5     1  \n",
       "6     1  \n",
       "7     1  \n",
       "8     1  \n",
       "9     1  \n",
       "10    1  \n",
       "11    1  \n",
       "13    1  \n",
       "14    1  \n",
       "15    1  \n",
       "16    1  \n",
       "17    1  \n",
       "18    1  \n",
       "19    1  \n",
       "20    1  \n",
       "21    1  \n",
       "22    1  \n",
       "24    1  \n",
       "25    1  \n",
       "26    1  \n",
       "27    1  \n",
       "28    1  \n",
       "29    1  \n",
       "30    1  \n",
       "31    1  \n",
       "32    1  \n",
       "33    1  \n",
       "34    1  \n",
       "35    1  \n",
       "36    1  \n",
       "37    1  \n",
       "38    1  \n",
       "39    1  \n",
       "40    1  "
      ]
     },
     "execution_count": 9,
     "metadata": {},
     "output_type": "execute_result"
    }
   ],
   "source": [
    "df_games"
   ]
  },
  {
   "cell_type": "markdown",
   "metadata": {},
   "source": [
    "### Aggregate head-to-head records\n",
    "\n",
    "Head to head records:"
   ]
  },
  {
   "cell_type": "code",
   "execution_count": 70,
   "metadata": {
    "collapsed": false,
    "scrolled": true
   },
   "outputs": [],
   "source": [
    "games_h2h_ct = df_games[['winner', 'loser', 'ind']].groupby(['winner', 'loser']).sum().reset_index()\n",
    "games_h2h = games_h2h_ct.pivot(index='loser', columns='winner', values='ind')\n",
    "\n",
    "del games_h2h.columns.name\n",
    "games_h2h.fillna(0, inplace=True)\n",
    "games_h2h.reset_index(inplace=True)\n",
    "games_h2h.set_index('loser', drop=True, inplace=True)\n",
    "games_h2h.index.name = None\n",
    "\n",
    "#games_h2h"
   ]
  },
  {
   "cell_type": "code",
   "execution_count": 71,
   "metadata": {
    "collapsed": false
   },
   "outputs": [],
   "source": [
    "all_players = set(games_h2h_ct.winner.values).union(set(games_h2h_ct.loser.values))"
   ]
  },
  {
   "cell_type": "markdown",
   "metadata": {},
   "source": [
    "Adjust so that all players are included in both axes"
   ]
  },
  {
   "cell_type": "code",
   "execution_count": 72,
   "metadata": {
    "collapsed": false
   },
   "outputs": [],
   "source": [
    "for player in all_players:\n",
    "    winners = games_h2h.columns\n",
    "    losers = games_h2h.index.values\n",
    "    \n",
    "    if player not in winners:\n",
    "        games_h2h[player] = 0\n",
    "    \n",
    "    if player not in losers:\n",
    "        games_h2h.loc[player] = list(np.zeros(games_h2h.shape[1]))"
   ]
  },
  {
   "cell_type": "code",
   "execution_count": 73,
   "metadata": {
    "collapsed": false
   },
   "outputs": [],
   "source": [
    "games_h2h = games_h2h.reindex_axis(sorted(games_h2h.columns), axis=1)\n",
    "games_h2h.sort_index(inplace=True)"
   ]
  },
  {
   "cell_type": "markdown",
   "metadata": {
    "collapsed": false
   },
   "source": [
    "Add in total wins and losses for each player:"
   ]
  },
  {
   "cell_type": "code",
   "execution_count": 74,
   "metadata": {
    "collapsed": true
   },
   "outputs": [],
   "source": [
    "games_h2h['losses'] = games_h2h.sum(axis=1)\n",
    "games_h2h.loc['wins'] = list(games_h2h.sum(axis=0))[:-1] + [0]"
   ]
  },
  {
   "cell_type": "markdown",
   "metadata": {},
   "source": [
    "#### Head-to-head heatmap \n",
    "\n",
    "See [stackoverflow](http://stackoverflow.com/questions/11917547/how-to-annotate-heatmap-with-text-in-matplotlib) for borrowed code for labeling text. For some reason need to run this (and sorting below as well) twice in order to get correct index ordering."
   ]
  },
  {
   "cell_type": "code",
   "execution_count": 75,
   "metadata": {
    "collapsed": false
   },
   "outputs": [
    {
     "data": {
      "image/png": "[encoded data removed]",
      "text/plain": [
       "<matplotlib.figure.Figure at 0x9d4b860>"
      ]
     },
     "metadata": {},
     "output_type": "display_data"
    }
   ],
   "source": [
    "scale = 0.75\n",
    "fig, ax = plt.subplots(figsize = (scale * games_h2h.shape[1], scale * games_h2h.shape[0]))\n",
    "heatmap = ax.pcolor(games_h2h, cmap = \"Blues\")\n",
    "\n",
    "# put the major ticks at the middle of each cell\n",
    "ax.set_xticks(np.arange(games_h2h.shape[1])+0.5, minor=False)\n",
    "ax.set_yticks(np.arange(games_h2h.shape[0])+0.5, minor=False)\n",
    "\n",
    "ax.set_xticklabels(games_h2h.columns)\n",
    "ax.set_yticklabels(games_h2h.index.values)\n",
    "\n",
    "ax.invert_yaxis()\n",
    "ax.xaxis.tick_top()\n",
    "\n",
    "for y in range(games_h2h.shape[0]):\n",
    "    for x in range(games_h2h.shape[1]):\n",
    "        val = games_h2h.iloc[y, x]\n",
    "        opp_val = games_h2h.iloc[x, y]\n",
    "        if val or opp_val:\n",
    "            plt.text(x + 0.5, y + 0.5, '%.1d' % val,\n",
    "                     horizontalalignment='center',\n",
    "                     verticalalignment='center',\n",
    "                     )"
   ]
  },
  {
   "cell_type": "code",
   "execution_count": 76,
   "metadata": {
    "collapsed": false
   },
   "outputs": [
    {
     "name": "stdout",
     "output_type": "stream",
     "text": [
      "['AH', 'ATN', 'GJZ', 'JD', 'JDH', 'JRM', 'MAG', 'MKG', 'MKG2', 'NAS', 'RAL', 'RL', 'SPM', 'wins']\n",
      "['AH', 'ATN', 'GJZ', 'JD', 'JDH', 'JRM', 'MAG', 'MKG', 'MKG2', 'NAS', 'RAL', 'RL', 'SPM', 'losses']\n"
     ]
    }
   ],
   "source": [
    "print list(games_h2h.index.values)\n",
    "print list(games_h2h.columns)"
   ]
  },
  {
   "cell_type": "markdown",
   "metadata": {},
   "source": [
    "GZ stats"
   ]
  },
  {
   "cell_type": "code",
   "execution_count": 19,
   "metadata": {
    "collapsed": false
   },
   "outputs": [],
   "source": [
    "gz_games = df_games[((df_games.player1 == 'GJZ') | (df_games.player2 == 'GJZ'))]"
   ]
  },
  {
   "cell_type": "code",
   "execution_count": 20,
   "metadata": {
    "collapsed": false
   },
   "outputs": [
    {
     "name": "stdout",
     "output_type": "stream",
     "text": [
      "0.666666666667\n"
     ]
    }
   ],
   "source": [
    "print len(gz_games[gz_games.winner == 'GJZ']) / float(len(gz_games))"
   ]
  },
  {
   "cell_type": "markdown",
   "metadata": {},
   "source": [
    "### Elo Rating Algo \\#1: Simple"
   ]
  },
  {
   "cell_type": "markdown",
   "metadata": {},
   "source": [
    "#### System 1a: Dictionary of ratings\n",
    "\n",
    "Giving players Elo ratings. 538 uses average $= 1500$ and $K = 20$ (see [here](https://fivethirtyeight.com/features/how-we-calculate-nba-elo-ratings/))."
   ]
  },
  {
   "cell_type": "code",
   "execution_count": 31,
   "metadata": {
    "collapsed": true
   },
   "outputs": [],
   "source": [
    "init_avg = 1500.\n",
    "sel_k = 20.\n",
    "exp_div = 400."
   ]
  },
  {
   "cell_type": "markdown",
   "metadata": {},
   "source": [
    "Helper functions"
   ]
  },
  {
   "cell_type": "code",
   "execution_count": 32,
   "metadata": {
    "collapsed": true
   },
   "outputs": [],
   "source": [
    "def p_win_exp(p1, p2, div=exp_div):\n",
    "    p_win = 1. / (1. + 10. ** ((p2 - p1) / div))\n",
    "    \n",
    "    #print 'P(win)', '%.2f' % p_win \n",
    "    return p_win"
   ]
  },
  {
   "cell_type": "code",
   "execution_count": 33,
   "metadata": {
    "collapsed": true
   },
   "outputs": [],
   "source": [
    "def new_score(p1r, p2r, score=1, k=sel_k):\n",
    "    # if p1 wins, score is 1\n",
    "    # if p1 loses, score is -1\n",
    "    delta = k * (score - p_win_exp(p1r, p2r))\n",
    "    \n",
    "    #print 'Point delta', '%.2f' % delta\n",
    "    return p1r + delta, p2r - delta"
   ]
  },
  {
   "cell_type": "markdown",
   "metadata": {},
   "source": [
    "Create dictionary of player scores"
   ]
  },
  {
   "cell_type": "code",
   "execution_count": 34,
   "metadata": {
    "collapsed": false
   },
   "outputs": [],
   "source": [
    "player_scores = dict(zip(all_players, list(init_avg * np.ones(len(all_players)))))"
   ]
  },
  {
   "cell_type": "markdown",
   "metadata": {},
   "source": [
    "Iterate through game data"
   ]
  },
  {
   "cell_type": "code",
   "execution_count": 35,
   "metadata": {
    "collapsed": false
   },
   "outputs": [],
   "source": [
    "for idx, row in df_games.iterrows():\n",
    "    \n",
    "    winner = row['winner']\n",
    "    loser = row['loser']\n",
    "    \n",
    "    old1 = player_scores[winner]\n",
    "    old2 = player_scores[loser]\n",
    "    \n",
    "    player_scores[winner], player_scores[loser] = new_score(player_scores[winner], player_scores[loser])\n",
    "    \n",
    "#     print winner + ' (winner):',  '%.0f' % old1, '-->', '%.0f' % player_scores[winner]\n",
    "#     print loser + ' (loser):', '%.0f' % old2, '-->', '%.0f' % player_scores[loser]\n",
    "#     print \"====\""
   ]
  },
  {
   "cell_type": "code",
   "execution_count": 36,
   "metadata": {
    "collapsed": false
   },
   "outputs": [
    {
     "data": {
      "text/plain": [
       "{'AH': 1480.4302182246715,\n",
       " 'ATN': 1486.9602599925413,\n",
       " 'GJZ': 1555.0638997297767,\n",
       " 'JD': 1452.5865759989517,\n",
       " 'JDH': 1563.5304204438924,\n",
       " 'JRM': 1490.0,\n",
       " 'MAG': 1500.7402567645654,\n",
       " 'MKG': 1510.0,\n",
       " 'MKG2': 1490.0,\n",
       " 'NAS': 1491.3389493914003,\n",
       " 'RAL': 1491.1486041010212,\n",
       " 'RL': 1499.4016573765102,\n",
       " 'SPM': 1488.7991579766692}"
      ]
     },
     "execution_count": 36,
     "metadata": {},
     "output_type": "execute_result"
    }
   ],
   "source": [
    "player_scores"
   ]
  },
  {
   "cell_type": "code",
   "execution_count": null,
   "metadata": {
    "collapsed": true
   },
   "outputs": [],
   "source": []
  },
  {
   "cell_type": "markdown",
   "metadata": {},
   "source": [
    "#### System 1b: DataFrame for dict\n",
    "\n",
    "**Caution:** uses same DataFrame name as later Elo rating systems!"
   ]
  },
  {
   "cell_type": "code",
   "execution_count": null,
   "metadata": {
    "collapsed": true
   },
   "outputs": [],
   "source": [
    "init_avg = 1500.\n",
    "sel_k = 20.\n",
    "exp_div = 400.\n",
    "\n",
    "kbase = 800.\n",
    "denom_const = kbase / 40."
   ]
  },
  {
   "cell_type": "code",
   "execution_count": 92,
   "metadata": {
    "collapsed": false
   },
   "outputs": [],
   "source": [
    "seq_info = pd.DataFrame(games_h2h.index)\n",
    "seq_info.columns = ['player']\n",
    "\n",
    "seq_info['simple_elo'] = 1500.\n",
    "seq_info['elo2'] = 1500.\n",
    "seq_info['num_wins'] = 0.\n",
    "seq_info['tot_games'] = 0.\n",
    "seq_info = seq_info[seq_info.player != 'wins']"
   ]
  },
  {
   "cell_type": "code",
   "execution_count": 93,
   "metadata": {
    "collapsed": true
   },
   "outputs": [],
   "source": [
    "seq_info.set_index('player', inplace=True, drop=True)\n",
    "seq_info.index.name = None"
   ]
  },
  {
   "cell_type": "code",
   "execution_count": 94,
   "metadata": {
    "collapsed": false
   },
   "outputs": [],
   "source": [
    "for idx, row in df_games.iterrows():\n",
    "    winner = row['winner']\n",
    "    loser = row['loser']\n",
    "    \n",
    "    # update game counts and victories\n",
    "    seq_info.loc[winner]['num_wins'] += 1\n",
    "    seq_info.loc[winner]['tot_games'] += 1\n",
    "    seq_info.loc[loser]['num_wins'] += 1\n",
    "    \n",
    "    (seq_info.loc[winner]['elo'], seq_info.loc[loser]['elo']) \\\n",
    "        = new_score(seq_info.loc[winner]['elo'], seq_info.loc[loser]['elo'])"
   ]
  },
  {
   "cell_type": "code",
   "execution_count": 95,
   "metadata": {
    "collapsed": false
   },
   "outputs": [
    {
     "data": {
      "text/html": [
       "<div>\n",
       "<table border=\"1\" class=\"dataframe\">\n",
       "  <thead>\n",
       "    <tr style=\"text-align: right;\">\n",
       "      <th></th>\n",
       "      <th>elo</th>\n",
       "      <th>num_wins</th>\n",
       "      <th>tot_games</th>\n",
       "    </tr>\n",
       "  </thead>\n",
       "  <tbody>\n",
       "    <tr>\n",
       "      <th>AH</th>\n",
       "      <td>1480.430218</td>\n",
       "      <td>2.0</td>\n",
       "      <td>0.0</td>\n",
       "    </tr>\n",
       "    <tr>\n",
       "      <th>ATN</th>\n",
       "      <td>1486.960260</td>\n",
       "      <td>4.0</td>\n",
       "      <td>1.0</td>\n",
       "    </tr>\n",
       "    <tr>\n",
       "      <th>GJZ</th>\n",
       "      <td>1555.063900</td>\n",
       "      <td>24.0</td>\n",
       "      <td>16.0</td>\n",
       "    </tr>\n",
       "    <tr>\n",
       "      <th>JD</th>\n",
       "      <td>1452.586576</td>\n",
       "      <td>5.0</td>\n",
       "      <td>0.0</td>\n",
       "    </tr>\n",
       "    <tr>\n",
       "      <th>JDH</th>\n",
       "      <td>1563.530420</td>\n",
       "      <td>29.0</td>\n",
       "      <td>17.0</td>\n",
       "    </tr>\n",
       "    <tr>\n",
       "      <th>JRM</th>\n",
       "      <td>1490.000000</td>\n",
       "      <td>1.0</td>\n",
       "      <td>0.0</td>\n",
       "    </tr>\n",
       "    <tr>\n",
       "      <th>MAG</th>\n",
       "      <td>1500.740257</td>\n",
       "      <td>2.0</td>\n",
       "      <td>1.0</td>\n",
       "    </tr>\n",
       "    <tr>\n",
       "      <th>MKG</th>\n",
       "      <td>1510.000000</td>\n",
       "      <td>1.0</td>\n",
       "      <td>1.0</td>\n",
       "    </tr>\n",
       "    <tr>\n",
       "      <th>MKG2</th>\n",
       "      <td>1490.000000</td>\n",
       "      <td>1.0</td>\n",
       "      <td>0.0</td>\n",
       "    </tr>\n",
       "    <tr>\n",
       "      <th>NAS</th>\n",
       "      <td>1491.338949</td>\n",
       "      <td>1.0</td>\n",
       "      <td>0.0</td>\n",
       "    </tr>\n",
       "    <tr>\n",
       "      <th>RAL</th>\n",
       "      <td>1491.148604</td>\n",
       "      <td>1.0</td>\n",
       "      <td>0.0</td>\n",
       "    </tr>\n",
       "    <tr>\n",
       "      <th>RL</th>\n",
       "      <td>1499.401657</td>\n",
       "      <td>2.0</td>\n",
       "      <td>1.0</td>\n",
       "    </tr>\n",
       "    <tr>\n",
       "      <th>SPM</th>\n",
       "      <td>1488.799158</td>\n",
       "      <td>5.0</td>\n",
       "      <td>2.0</td>\n",
       "    </tr>\n",
       "  </tbody>\n",
       "</table>\n",
       "</div>"
      ],
      "text/plain": [
       "              elo  num_wins  tot_games\n",
       "AH    1480.430218       2.0        0.0\n",
       "ATN   1486.960260       4.0        1.0\n",
       "GJZ   1555.063900      24.0       16.0\n",
       "JD    1452.586576       5.0        0.0\n",
       "JDH   1563.530420      29.0       17.0\n",
       "JRM   1490.000000       1.0        0.0\n",
       "MAG   1500.740257       2.0        1.0\n",
       "MKG   1510.000000       1.0        1.0\n",
       "MKG2  1490.000000       1.0        0.0\n",
       "NAS   1491.338949       1.0        0.0\n",
       "RAL   1491.148604       1.0        0.0\n",
       "RL    1499.401657       2.0        1.0\n",
       "SPM   1488.799158       5.0        2.0"
      ]
     },
     "execution_count": 95,
     "metadata": {},
     "output_type": "execute_result"
    }
   ],
   "source": [
    "seq_info"
   ]
  },
  {
   "cell_type": "code",
   "execution_count": null,
   "metadata": {
    "collapsed": true
   },
   "outputs": [],
   "source": []
  },
  {
   "cell_type": "markdown",
   "metadata": {},
   "source": [
    "### Elo Rating Algo \\#2: Adjusted K-factor\n",
    "\n",
    "Diminishing adjustment for greater horizons (i.e. greater number of games played)."
   ]
  },
  {
   "cell_type": "markdown",
   "metadata": {},
   "source": [
    "Using a variable $K$-factor depending on number of games played by the player"
   ]
  },
  {
   "cell_type": "code",
   "execution_count": 104,
   "metadata": {
    "collapsed": true
   },
   "outputs": [],
   "source": [
    "avg_elo = 1500.\n",
    "kbase = 800.\n",
    "denom_const = kbase / 40."
   ]
  },
  {
   "cell_type": "code",
   "execution_count": 105,
   "metadata": {
    "collapsed": false
   },
   "outputs": [],
   "source": [
    "seq_info = pd.DataFrame(games_h2h.index)\n",
    "seq_info.columns = ['player']\n",
    "\n",
    "seq_info['elo'] = 1500.\n",
    "seq_info['num_wins'] = 0.\n",
    "seq_info['tot_games'] = 0.\n",
    "seq_info = seq_info[seq_info.player != 'wins']"
   ]
  },
  {
   "cell_type": "code",
   "execution_count": 106,
   "metadata": {
    "collapsed": false
   },
   "outputs": [],
   "source": [
    "seq_info.set_index('player', inplace=True, drop=True)\n",
    "seq_info.index.name = None"
   ]
  },
  {
   "cell_type": "code",
   "execution_count": 107,
   "metadata": {
    "collapsed": true
   },
   "outputs": [],
   "source": [
    "def new_score_kadj(p1r, p2r, g1, g2, kbase=kbase, score=1):\n",
    "    # if p1 wins, score is 1\n",
    "    # if p1 loses, score is -1\n",
    "    const = (score - p_win_exp(p1r, p2r))\n",
    "    delta1 = (kbase / (denom_const + g1)) * const\n",
    "    delta2 = (kbase / (denom_const + g2)) * const\n",
    "    print delta1, g1\n",
    "    print delta2, g2\n",
    "    return p1r + delta1, p2r - delta2"
   ]
  },
  {
   "cell_type": "markdown",
   "metadata": {},
   "source": [
    "Iterate through games to obtain Elo rankings. \n",
    "\n",
    "Code below has an issue when not all dtypes are ints--make sure to have all numbers as floats."
   ]
  },
  {
   "cell_type": "code",
   "execution_count": 108,
   "metadata": {
    "collapsed": false
   },
   "outputs": [
    {
     "name": "stdout",
     "output_type": "stream",
     "text": [
      "20.0 0.0\n",
      "20.0 0.0\n",
      "17.9523594708 1.0\n",
      "18.8499774443 0.0\n",
      "18.9159714994 0.0\n",
      "18.0152109518 1.0\n",
      "17.8857975385 0.0\n",
      "16.2598159441 2.0\n",
      "18.0116035959 1.0\n",
      "18.9121837757 0.0\n",
      "21.8486550807 3.0\n",
      "22.8417757662 2.0\n",
      "17.2595318957 4.0\n",
      "19.7251793093 1.0\n",
      "20.0 0.0\n",
      "20.0 0.0\n",
      "17.0416010277 2.0\n",
      "16.3006618526 3.0\n",
      "14.0309645565 3.0\n",
      "12.908487392 5.0\n",
      "19.4864012288 6.0\n",
      "21.1102679979 4.0\n",
      "13.4880621281 7.0\n",
      "16.5535307936 2.0\n",
      "11.793428218 8.0\n",
      "14.3572169611 3.0\n",
      "13.8536570556 5.0\n",
      "17.3170713195 0.0\n",
      "16.0491194121 0.0\n",
      "13.3742661767 4.0\n",
      "13.4945372023 6.0\n",
      "12.0985505952 9.0\n",
      "11.9314548622 7.0\n",
      "10.738309376 10.0\n",
      "10.6209988586 8.0\n",
      "9.59316025941 11.0\n",
      "13.0245169307 12.0\n",
      "20.8392270891 0.0\n",
      "15.4637204284 13.0\n",
      "17.5966473841 9.0\n",
      "9.7220007346 10.0\n",
      "13.888572478 1.0\n",
      "10.1597798417 11.0\n",
      "9.26332867924 14.0\n",
      "14.4607179407 15.0\n",
      "15.8164102476 12.0\n",
      "9.9078870881 13.0\n",
      "9.08222983076 16.0\n",
      "10.4622443193 17.0\n",
      "16.1292933255 4.0\n",
      "9.33864095732 14.0\n",
      "8.35562611971 18.0\n",
      "12.8659483663 19.0\n",
      "14.3363424653 15.0\n",
      "8.68856790991 20.0\n",
      "16.5496531617 1.0\n",
      "9.26152285102 21.0\n",
      "18.0820208044 1.0\n",
      "10.7567068936 22.0\n",
      "12.5494913759 16.0\n",
      "9.88856252231 23.0\n",
      "11.4921132016 17.0\n",
      "8.60519083467 18.0\n",
      "16.3498625859 0.0\n",
      "7.27647938407 19.0\n",
      "12.8992134536 2.0\n",
      "9.52758500347 20.0\n",
      "8.66144091225 24.0\n",
      "23.7694085353 3.0\n",
      "13.3340584466 21.0\n",
      "7.49532631671 25.0\n",
      "16.8644842126 0.0\n",
      "9.04048973241 26.0\n",
      "9.90148875454 22.0\n",
      "9.44038306804 23.0\n",
      "8.63694621118 27.0\n",
      "7.26151274263 28.0\n",
      "16.5977434117 1.0\n"
     ]
    }
   ],
   "source": [
    "for idx, row in df_games.iterrows():\n",
    "    winner = row['winner']\n",
    "    loser = row['loser']\n",
    "    \n",
    "    g1 = seq_info.loc[winner]['tot_games']\n",
    "    g2 = seq_info.loc[loser]['tot_games']\n",
    "    \n",
    "#     print winner, seq_info.loc[winner]['elo']\n",
    "#     print loser, seq_info.loc[loser]['elo']\n",
    "    \n",
    "    (seq_info.loc[winner]['elo'], seq_info.loc[loser]['elo']) = new_score_kadj(seq_info.loc[winner]['elo'],\n",
    "                                                                               seq_info.loc[loser]['elo'],\n",
    "                                                                               g1, g2)\n",
    "\n",
    "#     print winner, seq_info.loc[winner]['elo']\n",
    "#     print loser, seq_info.loc[loser]['elo']\n",
    "#     print '===='\n",
    "\n",
    "    seq_info.loc[winner]['tot_games'] += 1\n",
    "    seq_info.loc[loser]['tot_games'] += 1\n",
    "    \n",
    "    seq_info.loc[winner]['num_wins'] += 1"
   ]
  },
  {
   "cell_type": "code",
   "execution_count": 103,
   "metadata": {
    "collapsed": false
   },
   "outputs": [
    {
     "data": {
      "text/html": [
       "<div>\n",
       "<table border=\"1\" class=\"dataframe\">\n",
       "  <thead>\n",
       "    <tr style=\"text-align: right;\">\n",
       "      <th></th>\n",
       "      <th>elo</th>\n",
       "      <th>num_wins</th>\n",
       "      <th>tot_games</th>\n",
       "    </tr>\n",
       "  </thead>\n",
       "  <tbody>\n",
       "    <tr>\n",
       "      <th>AH</th>\n",
       "      <td>1147.859533</td>\n",
       "      <td>0.0</td>\n",
       "      <td>2.0</td>\n",
       "    </tr>\n",
       "    <tr>\n",
       "      <th>ATN</th>\n",
       "      <td>1508.365125</td>\n",
       "      <td>1.0</td>\n",
       "      <td>4.0</td>\n",
       "    </tr>\n",
       "    <tr>\n",
       "      <th>GJZ</th>\n",
       "      <td>1728.614944</td>\n",
       "      <td>16.0</td>\n",
       "      <td>24.0</td>\n",
       "    </tr>\n",
       "    <tr>\n",
       "      <th>JD</th>\n",
       "      <td>1138.356774</td>\n",
       "      <td>0.0</td>\n",
       "      <td>5.0</td>\n",
       "    </tr>\n",
       "    <tr>\n",
       "      <th>JDH</th>\n",
       "      <td>1737.762732</td>\n",
       "      <td>17.0</td>\n",
       "      <td>29.0</td>\n",
       "    </tr>\n",
       "    <tr>\n",
       "      <th>JRM</th>\n",
       "      <td>1100.000000</td>\n",
       "      <td>0.0</td>\n",
       "      <td>1.0</td>\n",
       "    </tr>\n",
       "    <tr>\n",
       "      <th>MAG</th>\n",
       "      <td>1500.812656</td>\n",
       "      <td>1.0</td>\n",
       "      <td>2.0</td>\n",
       "    </tr>\n",
       "    <tr>\n",
       "      <th>MKG</th>\n",
       "      <td>1900.000000</td>\n",
       "      <td>1.0</td>\n",
       "      <td>1.0</td>\n",
       "    </tr>\n",
       "    <tr>\n",
       "      <th>MKG2</th>\n",
       "      <td>1100.000000</td>\n",
       "      <td>0.0</td>\n",
       "      <td>1.0</td>\n",
       "    </tr>\n",
       "    <tr>\n",
       "      <th>NAS</th>\n",
       "      <td>1324.314573</td>\n",
       "      <td>0.0</td>\n",
       "      <td>1.0</td>\n",
       "    </tr>\n",
       "    <tr>\n",
       "      <th>RAL</th>\n",
       "      <td>1332.035715</td>\n",
       "      <td>0.0</td>\n",
       "      <td>1.0</td>\n",
       "    </tr>\n",
       "    <tr>\n",
       "      <th>RL</th>\n",
       "      <td>1445.379280</td>\n",
       "      <td>1.0</td>\n",
       "      <td>2.0</td>\n",
       "    </tr>\n",
       "    <tr>\n",
       "      <th>SPM</th>\n",
       "      <td>1549.515247</td>\n",
       "      <td>2.0</td>\n",
       "      <td>5.0</td>\n",
       "    </tr>\n",
       "  </tbody>\n",
       "</table>\n",
       "</div>"
      ],
      "text/plain": [
       "              elo  num_wins  tot_games\n",
       "AH    1147.859533       0.0        2.0\n",
       "ATN   1508.365125       1.0        4.0\n",
       "GJZ   1728.614944      16.0       24.0\n",
       "JD    1138.356774       0.0        5.0\n",
       "JDH   1737.762732      17.0       29.0\n",
       "JRM   1100.000000       0.0        1.0\n",
       "MAG   1500.812656       1.0        2.0\n",
       "MKG   1900.000000       1.0        1.0\n",
       "MKG2  1100.000000       0.0        1.0\n",
       "NAS   1324.314573       0.0        1.0\n",
       "RAL   1332.035715       0.0        1.0\n",
       "RL    1445.379280       1.0        2.0\n",
       "SPM   1549.515247       2.0        5.0"
      ]
     },
     "execution_count": 103,
     "metadata": {},
     "output_type": "execute_result"
    }
   ],
   "source": [
    "seq_info"
   ]
  },
  {
   "cell_type": "code",
   "execution_count": null,
   "metadata": {
    "collapsed": true
   },
   "outputs": [],
   "source": []
  },
  {
   "cell_type": "code",
   "execution_count": null,
   "metadata": {
    "collapsed": true
   },
   "outputs": [],
   "source": []
  }
 ],
 "metadata": {
  "anaconda-cloud": {},
  "kernelspec": {
   "display_name": "Python [Root]",
   "language": "python",
   "name": "Python [Root]"
  },
  "language_info": {
   "codemirror_mode": {
    "name": "ipython",
    "version": 2
   },
   "file_extension": ".py",
   "mimetype": "text/x-python",
   "name": "python",
   "nbconvert_exporter": "python",
   "pygments_lexer": "ipython2",
   "version": "2.7.12"
  }
 },
 "nbformat": 4,
 "nbformat_minor": 0
}
